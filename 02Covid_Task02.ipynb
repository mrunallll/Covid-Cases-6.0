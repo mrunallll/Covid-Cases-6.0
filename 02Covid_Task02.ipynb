{
  "nbformat": 4,
  "nbformat_minor": 0,
  "metadata": {
    "colab": {
      "name": "02Covid-Task02.ipynb",
      "provenance": [],
      "collapsed_sections": [],
      "authorship_tag": "ABX9TyP6X3w/zSWEuioZSxoSY+0M",
      "include_colab_link": true
    },
    "kernelspec": {
      "name": "python3",
      "display_name": "Python 3"
    }
  },
  "cells": [
    {
      "cell_type": "markdown",
      "metadata": {
        "id": "view-in-github",
        "colab_type": "text"
      },
      "source": [
        "<a href=\"https://colab.research.google.com/github/mrunallll/Covid-Cases-Flipr-Hackathon6.0/blob/master/02Covid_Task02.ipynb\" target=\"_parent\"><img src=\"https://colab.research.google.com/assets/colab-badge.svg\" alt=\"Open In Colab\"/></a>"
      ]
    },
    {
      "cell_type": "markdown",
      "metadata": {
        "id": "XwoN_l0LG6G8",
        "colab_type": "text"
      },
      "source": [
        "#The time Series feature 'Foreign Visitors' can be predicted using multivariate multistep LSTM (Long Short Term Memory)"
      ]
    },
    {
      "cell_type": "markdown",
      "metadata": {
        "id": "9GZTra0tVcKJ",
        "colab_type": "text"
      },
      "source": [
        "Importing libraries"
      ]
    },
    {
      "cell_type": "code",
      "metadata": {
        "id": "ekJbPiLKOQCa",
        "colab_type": "code",
        "colab": {
          "base_uri": "https://localhost:8080/",
          "height": 71
        },
        "outputId": "e35be4f4-2fd7-4661-b9ee-f5be7471a962"
      },
      "source": [
        "import numpy as np\n",
        "import matplotlib.pyplot as plt\n",
        "%matplotlib inline\n",
        "import pandas as pd\n",
        "#import pandas_profiling\n",
        "from pandas import DataFrame\n",
        "import seaborn as sns\n",
        "import warnings\n",
        "plt.style.use('ggplot')\n",
        "plt.rcParams['figure.figsize']=(12,8)"
      ],
      "execution_count": 1,
      "outputs": [
        {
          "output_type": "stream",
          "text": [
            "/usr/local/lib/python3.6/dist-packages/statsmodels/tools/_testing.py:19: FutureWarning: pandas.util.testing is deprecated. Use the functions in the public API at pandas.testing instead.\n",
            "  import pandas.util.testing as tm\n"
          ],
          "name": "stderr"
        }
      ]
    },
    {
      "cell_type": "code",
      "metadata": {
        "id": "6KLeO-4BOP_l",
        "colab_type": "code",
        "colab": {
          "resources": {
            "http://localhost:8080/nbextensions/google.colab/files.js": {
              "data": "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",
              "ok": true,
              "headers": [
                [
                  "content-type",
                  "application/javascript"
                ]
              ],
              "status": 200,
              "status_text": ""
            }
          },
          "base_uri": "https://localhost:8080/",
          "height": 72
        },
        "outputId": "5990cb15-471e-4a3c-dfaf-c729a5bf8284"
      },
      "source": [
        "from google.colab import files\n",
        "up=files.upload()"
      ],
      "execution_count": 2,
      "outputs": [
        {
          "output_type": "display_data",
          "data": {
            "text/html": [
              "\n",
              "     <input type=\"file\" id=\"files-156d0184-33fc-48a0-8ac8-072e0170c5e8\" name=\"files[]\" multiple disabled\n",
              "        style=\"border:none\" />\n",
              "     <output id=\"result-156d0184-33fc-48a0-8ac8-072e0170c5e8\">\n",
              "      Upload widget is only available when the cell has been executed in the\n",
              "      current browser session. Please rerun this cell to enable.\n",
              "      </output>\n",
              "      <script src=\"/nbextensions/google.colab/files.js\"></script> "
            ],
            "text/plain": [
              "<IPython.core.display.HTML object>"
            ]
          },
          "metadata": {
            "tags": []
          }
        },
        {
          "output_type": "stream",
          "text": [
            "Saving part2-dataset.xlsx to part2-dataset.xlsx\n"
          ],
          "name": "stdout"
        }
      ]
    },
    {
      "cell_type": "code",
      "metadata": {
        "id": "673l2YFZK6TL",
        "colab_type": "code",
        "colab": {}
      },
      "source": [
        "foreign_visitors=pd.read_excel('part2-dataset.xlsx')"
      ],
      "execution_count": 3,
      "outputs": []
    },
    {
      "cell_type": "markdown",
      "metadata": {
        "id": "qq9rRuRRVipK",
        "colab_type": "text"
      },
      "source": [
        "Renaming Feature columns"
      ]
    },
    {
      "cell_type": "code",
      "metadata": {
        "id": "HObofJYKOF_A",
        "colab_type": "code",
        "colab": {}
      },
      "source": [
        "foreign_visitors.drop(foreign_visitors.index[0], inplace=True)\n",
        "foreign_visitors.rename(columns={'Time Series Data': \"April\",\n",
        "                      'Unnamed: 2'\t: \"May\", 'Unnamed: 3'\t: \"June\", \n",
        "                      'Unnamed: 4'\t: \"July\", 'Unnamed: 5'\t: \"August\"}, inplace=True)"
      ],
      "execution_count": 4,
      "outputs": []
    },
    {
      "cell_type": "code",
      "metadata": {
        "id": "mdLxeZTROGCC",
        "colab_type": "code",
        "colab": {
          "base_uri": "https://localhost:8080/",
          "height": 204
        },
        "outputId": "e1566a0a-8c1f-4c85-c4e1-3fd808d8949c"
      },
      "source": [
        "foreign_visitors.head()"
      ],
      "execution_count": 5,
      "outputs": [
        {
          "output_type": "execute_result",
          "data": {
            "text/html": [
              "<div>\n",
              "<style scoped>\n",
              "    .dataframe tbody tr th:only-of-type {\n",
              "        vertical-align: middle;\n",
              "    }\n",
              "\n",
              "    .dataframe tbody tr th {\n",
              "        vertical-align: top;\n",
              "    }\n",
              "\n",
              "    .dataframe thead th {\n",
              "        text-align: right;\n",
              "    }\n",
              "</style>\n",
              "<table border=\"1\" class=\"dataframe\">\n",
              "  <thead>\n",
              "    <tr style=\"text-align: right;\">\n",
              "      <th></th>\n",
              "      <th>City</th>\n",
              "      <th>April</th>\n",
              "      <th>May</th>\n",
              "      <th>June</th>\n",
              "      <th>July</th>\n",
              "      <th>August</th>\n",
              "    </tr>\n",
              "  </thead>\n",
              "  <tbody>\n",
              "    <tr>\n",
              "      <th>1</th>\n",
              "      <td>Tuensang</td>\n",
              "      <td>1614</td>\n",
              "      <td>1946</td>\n",
              "      <td>2372</td>\n",
              "      <td>2500</td>\n",
              "      <td>2769</td>\n",
              "    </tr>\n",
              "    <tr>\n",
              "      <th>2</th>\n",
              "      <td>Lakshmeshwar</td>\n",
              "      <td>369179</td>\n",
              "      <td>445559</td>\n",
              "      <td>541045</td>\n",
              "      <td>572860</td>\n",
              "      <td>636502</td>\n",
              "    </tr>\n",
              "    <tr>\n",
              "      <th>3</th>\n",
              "      <td>Zira</td>\n",
              "      <td>140581</td>\n",
              "      <td>169665</td>\n",
              "      <td>206030</td>\n",
              "      <td>218138</td>\n",
              "      <td>242367</td>\n",
              "    </tr>\n",
              "    <tr>\n",
              "      <th>4</th>\n",
              "      <td>Yawal</td>\n",
              "      <td>2557179</td>\n",
              "      <td>3086249</td>\n",
              "      <td>3747597</td>\n",
              "      <td>3968032</td>\n",
              "      <td>4408916</td>\n",
              "    </tr>\n",
              "    <tr>\n",
              "      <th>5</th>\n",
              "      <td>Thana Bhawan</td>\n",
              "      <td>1800363</td>\n",
              "      <td>2172850</td>\n",
              "      <td>2638469</td>\n",
              "      <td>2793662</td>\n",
              "      <td>3104060</td>\n",
              "    </tr>\n",
              "  </tbody>\n",
              "</table>\n",
              "</div>"
            ],
            "text/plain": [
              "           City    April      May     June     July   August\n",
              "1      Tuensang     1614     1946     2372     2500     2769\n",
              "2  Lakshmeshwar   369179   445559   541045   572860   636502\n",
              "3          Zira   140581   169665   206030   218138   242367\n",
              "4         Yawal  2557179  3086249  3747597  3968032  4408916\n",
              "5  Thana Bhawan  1800363  2172850  2638469  2793662  3104060"
            ]
          },
          "metadata": {
            "tags": []
          },
          "execution_count": 5
        }
      ]
    },
    {
      "cell_type": "markdown",
      "metadata": {
        "id": "uTmmc415HOzN",
        "colab_type": "text"
      },
      "source": [
        "# Data Preprocessing\n",
        "1. Convert all columns into float\n",
        "2. Fill Missing Values\n",
        "3. Transpose & drop Cities column (not required)"
      ]
    },
    {
      "cell_type": "code",
      "metadata": {
        "id": "1Qwc9oKAOGEK",
        "colab_type": "code",
        "colab": {}
      },
      "source": [
        "#Converting to float\n",
        "convert_dict = {'April':float,\n",
        "'May':float,\n",
        "'June':float,\n",
        "'July': float,\n",
        "'August':float} \n",
        "foreign_visitors = foreign_visitors.astype(convert_dict) "
      ],
      "execution_count": 6,
      "outputs": []
    },
    {
      "cell_type": "code",
      "metadata": {
        "id": "iNN7kvMfOGV8",
        "colab_type": "code",
        "colab": {
          "base_uri": "https://localhost:8080/",
          "height": 136
        },
        "outputId": "f540ed8e-d348-446f-be36-865cc8021f9c"
      },
      "source": [
        "print(foreign_visitors.dtypes)"
      ],
      "execution_count": 7,
      "outputs": [
        {
          "output_type": "stream",
          "text": [
            "City       object\n",
            "April     float64\n",
            "May       float64\n",
            "June      float64\n",
            "July      float64\n",
            "August    float64\n",
            "dtype: object\n"
          ],
          "name": "stdout"
        }
      ]
    },
    {
      "cell_type": "markdown",
      "metadata": {
        "id": "QfgAMyPqHig0",
        "colab_type": "text"
      },
      "source": [
        "#Missing Values\n",
        "It is extremely important to fill right missing values.\n",
        "\n",
        "After extensive data exploration, it is observed that cities that belong to the same state have same number of visitors in a month.\n",
        "\n",
        "So, cities had to be grouped according to states to fill the missing values\n",
        "\n",
        "Since states feature was not available in Foreign Visitors Test data, the cities are grouped by August values since there are 28 distint values for August."
      ]
    },
    {
      "cell_type": "markdown",
      "metadata": {
        "id": "D5h_QEE_IhV7",
        "colab_type": "text"
      },
      "source": [
        "![miss.PNG](data:image/png;base64,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)"
      ]
    },
    {
      "cell_type": "markdown",
      "metadata": {
        "id": "C9I1WF2XKGxY",
        "colab_type": "text"
      },
      "source": [
        "So, the August data is used as refernce for States and groupby August"
      ]
    },
    {
      "cell_type": "code",
      "metadata": {
        "id": "incVzOJkOGZu",
        "colab_type": "code",
        "colab": {}
      },
      "source": [
        "foreign_visitors[\"April\"] = foreign_visitors.groupby(\"August\").transform(lambda x: x.fillna(x.median()))[\"April\"]\n",
        "foreign_visitors[\"May\"] = foreign_visitors.groupby(\"August\").transform(lambda x: x.fillna(x.median()))[\"May\"]\n",
        "foreign_visitors[\"June\"] = foreign_visitors.groupby(\"August\").transform(lambda x: x.fillna(x.median()))[\"June\"]\n",
        "foreign_visitors[\"July\"] = foreign_visitors.groupby(\"August\").transform(lambda x: x.fillna(x.median()))[\"July\"]"
      ],
      "execution_count": 8,
      "outputs": []
    },
    {
      "cell_type": "code",
      "metadata": {
        "id": "CA6kQ1XpOGUv",
        "colab_type": "code",
        "colab": {
          "base_uri": "https://localhost:8080/",
          "height": 136
        },
        "outputId": "02bda9cd-05aa-4445-844b-208d0b9299f3"
      },
      "source": [
        "foreign_visitors.isnull().sum()"
      ],
      "execution_count": 9,
      "outputs": [
        {
          "output_type": "execute_result",
          "data": {
            "text/plain": [
              "City      0\n",
              "April     0\n",
              "May       0\n",
              "June      0\n",
              "July      0\n",
              "August    0\n",
              "dtype: int64"
            ]
          },
          "metadata": {
            "tags": []
          },
          "execution_count": 9
        }
      ]
    },
    {
      "cell_type": "code",
      "metadata": {
        "id": "OhxOrpIdOGQU",
        "colab_type": "code",
        "colab": {
          "base_uri": "https://localhost:8080/",
          "height": 253
        },
        "outputId": "79b4e3a5-a8e4-4de3-af2e-50a7aff4c91d"
      },
      "source": [
        "foreign_visitors.head(30)"
      ],
      "execution_count": 15,
      "outputs": [
        {
          "output_type": "execute_result",
          "data": {
            "text/html": [
              "<div>\n",
              "<style scoped>\n",
              "    .dataframe tbody tr th:only-of-type {\n",
              "        vertical-align: middle;\n",
              "    }\n",
              "\n",
              "    .dataframe tbody tr th {\n",
              "        vertical-align: top;\n",
              "    }\n",
              "\n",
              "    .dataframe thead th {\n",
              "        text-align: right;\n",
              "    }\n",
              "</style>\n",
              "<table border=\"1\" class=\"dataframe\">\n",
              "  <thead>\n",
              "    <tr style=\"text-align: right;\">\n",
              "      <th></th>\n",
              "      <th>1</th>\n",
              "      <th>2</th>\n",
              "      <th>3</th>\n",
              "      <th>4</th>\n",
              "      <th>5</th>\n",
              "      <th>6</th>\n",
              "      <th>7</th>\n",
              "      <th>8</th>\n",
              "      <th>9</th>\n",
              "      <th>10</th>\n",
              "      <th>11</th>\n",
              "      <th>12</th>\n",
              "      <th>13</th>\n",
              "      <th>14</th>\n",
              "      <th>15</th>\n",
              "      <th>16</th>\n",
              "      <th>17</th>\n",
              "      <th>18</th>\n",
              "      <th>19</th>\n",
              "      <th>20</th>\n",
              "      <th>21</th>\n",
              "      <th>22</th>\n",
              "      <th>23</th>\n",
              "      <th>24</th>\n",
              "      <th>25</th>\n",
              "      <th>26</th>\n",
              "      <th>27</th>\n",
              "      <th>28</th>\n",
              "      <th>29</th>\n",
              "      <th>30</th>\n",
              "      <th>31</th>\n",
              "      <th>32</th>\n",
              "      <th>33</th>\n",
              "      <th>34</th>\n",
              "      <th>35</th>\n",
              "      <th>36</th>\n",
              "      <th>37</th>\n",
              "      <th>38</th>\n",
              "      <th>39</th>\n",
              "      <th>40</th>\n",
              "      <th>...</th>\n",
              "      <th>462</th>\n",
              "      <th>463</th>\n",
              "      <th>464</th>\n",
              "      <th>465</th>\n",
              "      <th>466</th>\n",
              "      <th>467</th>\n",
              "      <th>468</th>\n",
              "      <th>469</th>\n",
              "      <th>470</th>\n",
              "      <th>471</th>\n",
              "      <th>472</th>\n",
              "      <th>473</th>\n",
              "      <th>474</th>\n",
              "      <th>475</th>\n",
              "      <th>476</th>\n",
              "      <th>477</th>\n",
              "      <th>478</th>\n",
              "      <th>479</th>\n",
              "      <th>480</th>\n",
              "      <th>481</th>\n",
              "      <th>482</th>\n",
              "      <th>483</th>\n",
              "      <th>484</th>\n",
              "      <th>485</th>\n",
              "      <th>486</th>\n",
              "      <th>487</th>\n",
              "      <th>488</th>\n",
              "      <th>489</th>\n",
              "      <th>490</th>\n",
              "      <th>491</th>\n",
              "      <th>492</th>\n",
              "      <th>493</th>\n",
              "      <th>494</th>\n",
              "      <th>495</th>\n",
              "      <th>496</th>\n",
              "      <th>497</th>\n",
              "      <th>498</th>\n",
              "      <th>499</th>\n",
              "      <th>500</th>\n",
              "      <th>501</th>\n",
              "    </tr>\n",
              "  </thead>\n",
              "  <tbody>\n",
              "    <tr>\n",
              "      <th>April</th>\n",
              "      <td>1614</td>\n",
              "      <td>369179</td>\n",
              "      <td>140581</td>\n",
              "      <td>2.55718e+06</td>\n",
              "      <td>1.80036e+06</td>\n",
              "      <td>369179</td>\n",
              "      <td>2.55718e+06</td>\n",
              "      <td>73133</td>\n",
              "      <td>369179</td>\n",
              "      <td>855688</td>\n",
              "      <td>863918</td>\n",
              "      <td>2.55718e+06</td>\n",
              "      <td>3317</td>\n",
              "      <td>97323</td>\n",
              "      <td>2.55718e+06</td>\n",
              "      <td>369179</td>\n",
              "      <td>369179</td>\n",
              "      <td>244400</td>\n",
              "      <td>244400</td>\n",
              "      <td>137963</td>\n",
              "      <td>369179</td>\n",
              "      <td>855688</td>\n",
              "      <td>33977</td>\n",
              "      <td>2.55718e+06</td>\n",
              "      <td>855688</td>\n",
              "      <td>369179</td>\n",
              "      <td>2.71714e+06</td>\n",
              "      <td>1.80036e+06</td>\n",
              "      <td>1614</td>\n",
              "      <td>165292</td>\n",
              "      <td>369179</td>\n",
              "      <td>855688</td>\n",
              "      <td>855688</td>\n",
              "      <td>2.55718e+06</td>\n",
              "      <td>2.55718e+06</td>\n",
              "      <td>140581</td>\n",
              "      <td>1.80036e+06</td>\n",
              "      <td>855688</td>\n",
              "      <td>244400</td>\n",
              "      <td>855688</td>\n",
              "      <td>...</td>\n",
              "      <td>61420</td>\n",
              "      <td>61420</td>\n",
              "      <td>61420</td>\n",
              "      <td>855688</td>\n",
              "      <td>61420</td>\n",
              "      <td>61420</td>\n",
              "      <td>61420</td>\n",
              "      <td>38851</td>\n",
              "      <td>61420</td>\n",
              "      <td>137963</td>\n",
              "      <td>61420</td>\n",
              "      <td>61420</td>\n",
              "      <td>61420</td>\n",
              "      <td>61420</td>\n",
              "      <td>140581</td>\n",
              "      <td>61420</td>\n",
              "      <td>863918</td>\n",
              "      <td>61420</td>\n",
              "      <td>369179</td>\n",
              "      <td>244400</td>\n",
              "      <td>61420</td>\n",
              "      <td>61420</td>\n",
              "      <td>137963</td>\n",
              "      <td>2.55718e+06</td>\n",
              "      <td>535775</td>\n",
              "      <td>61420</td>\n",
              "      <td>61420</td>\n",
              "      <td>61420</td>\n",
              "      <td>61420</td>\n",
              "      <td>175816</td>\n",
              "      <td>855688</td>\n",
              "      <td>61420</td>\n",
              "      <td>61420</td>\n",
              "      <td>61420</td>\n",
              "      <td>61420</td>\n",
              "      <td>61420</td>\n",
              "      <td>61420</td>\n",
              "      <td>61420</td>\n",
              "      <td>61420</td>\n",
              "      <td>1.80036e+06</td>\n",
              "    </tr>\n",
              "    <tr>\n",
              "      <th>May</th>\n",
              "      <td>1946</td>\n",
              "      <td>445559</td>\n",
              "      <td>169665</td>\n",
              "      <td>3.08625e+06</td>\n",
              "      <td>2.17285e+06</td>\n",
              "      <td>445559</td>\n",
              "      <td>3.08625e+06</td>\n",
              "      <td>88263</td>\n",
              "      <td>445559</td>\n",
              "      <td>1.03273e+06</td>\n",
              "      <td>1.04266e+06</td>\n",
              "      <td>3.08625e+06</td>\n",
              "      <td>4002</td>\n",
              "      <td>117458</td>\n",
              "      <td>3.08625e+06</td>\n",
              "      <td>445559</td>\n",
              "      <td>445559</td>\n",
              "      <td>294964</td>\n",
              "      <td>294964</td>\n",
              "      <td>166506</td>\n",
              "      <td>445559</td>\n",
              "      <td>1.03273e+06</td>\n",
              "      <td>41006</td>\n",
              "      <td>3.08625e+06</td>\n",
              "      <td>1.03273e+06</td>\n",
              "      <td>445559</td>\n",
              "      <td>3.2793e+06</td>\n",
              "      <td>2.17285e+06</td>\n",
              "      <td>1946</td>\n",
              "      <td>199489</td>\n",
              "      <td>445559</td>\n",
              "      <td>1.03273e+06</td>\n",
              "      <td>1.03273e+06</td>\n",
              "      <td>3.08625e+06</td>\n",
              "      <td>3.08625e+06</td>\n",
              "      <td>169665</td>\n",
              "      <td>2.17285e+06</td>\n",
              "      <td>1.03273e+06</td>\n",
              "      <td>294964</td>\n",
              "      <td>1.03273e+06</td>\n",
              "      <td>...</td>\n",
              "      <td>74125</td>\n",
              "      <td>74125</td>\n",
              "      <td>74125</td>\n",
              "      <td>1.03273e+06</td>\n",
              "      <td>74125</td>\n",
              "      <td>74125</td>\n",
              "      <td>74125</td>\n",
              "      <td>46888</td>\n",
              "      <td>74125</td>\n",
              "      <td>166506</td>\n",
              "      <td>74125</td>\n",
              "      <td>74125</td>\n",
              "      <td>74125</td>\n",
              "      <td>74125</td>\n",
              "      <td>169665</td>\n",
              "      <td>74125</td>\n",
              "      <td>1.04266e+06</td>\n",
              "      <td>74125</td>\n",
              "      <td>445559</td>\n",
              "      <td>294964</td>\n",
              "      <td>74125</td>\n",
              "      <td>74125</td>\n",
              "      <td>166506</td>\n",
              "      <td>3.08625e+06</td>\n",
              "      <td>646624</td>\n",
              "      <td>74125</td>\n",
              "      <td>74125</td>\n",
              "      <td>74125</td>\n",
              "      <td>74125</td>\n",
              "      <td>212191</td>\n",
              "      <td>1.03273e+06</td>\n",
              "      <td>74125</td>\n",
              "      <td>74125</td>\n",
              "      <td>74125</td>\n",
              "      <td>74125</td>\n",
              "      <td>74125</td>\n",
              "      <td>74125</td>\n",
              "      <td>74125</td>\n",
              "      <td>74125</td>\n",
              "      <td>2.17285e+06</td>\n",
              "    </tr>\n",
              "    <tr>\n",
              "      <th>June</th>\n",
              "      <td>2372</td>\n",
              "      <td>541045</td>\n",
              "      <td>206030</td>\n",
              "      <td>3.7476e+06</td>\n",
              "      <td>2.63847e+06</td>\n",
              "      <td>541045</td>\n",
              "      <td>3.7476e+06</td>\n",
              "      <td>107184</td>\n",
              "      <td>541045</td>\n",
              "      <td>1.25403e+06</td>\n",
              "      <td>1.26609e+06</td>\n",
              "      <td>3.7476e+06</td>\n",
              "      <td>4867</td>\n",
              "      <td>142635</td>\n",
              "      <td>3.7476e+06</td>\n",
              "      <td>541045</td>\n",
              "      <td>541045</td>\n",
              "      <td>358178</td>\n",
              "      <td>358178</td>\n",
              "      <td>202194</td>\n",
              "      <td>541045</td>\n",
              "      <td>1.25403e+06</td>\n",
              "      <td>49801</td>\n",
              "      <td>3.7476e+06</td>\n",
              "      <td>1.25403e+06</td>\n",
              "      <td>541045</td>\n",
              "      <td>3.98202e+06</td>\n",
              "      <td>2.63847e+06</td>\n",
              "      <td>2372</td>\n",
              "      <td>242245</td>\n",
              "      <td>541045</td>\n",
              "      <td>1.25403e+06</td>\n",
              "      <td>1.25403e+06</td>\n",
              "      <td>3.7476e+06</td>\n",
              "      <td>3.7476e+06</td>\n",
              "      <td>206030</td>\n",
              "      <td>2.63847e+06</td>\n",
              "      <td>1.25403e+06</td>\n",
              "      <td>358178</td>\n",
              "      <td>1.25403e+06</td>\n",
              "      <td>...</td>\n",
              "      <td>90018</td>\n",
              "      <td>90018</td>\n",
              "      <td>90018</td>\n",
              "      <td>1.25403e+06</td>\n",
              "      <td>90018</td>\n",
              "      <td>90018</td>\n",
              "      <td>90018</td>\n",
              "      <td>56943</td>\n",
              "      <td>90018</td>\n",
              "      <td>202194</td>\n",
              "      <td>90018</td>\n",
              "      <td>90018</td>\n",
              "      <td>90018</td>\n",
              "      <td>90018</td>\n",
              "      <td>206030</td>\n",
              "      <td>90018</td>\n",
              "      <td>1.26609e+06</td>\n",
              "      <td>90018</td>\n",
              "      <td>541045</td>\n",
              "      <td>358178</td>\n",
              "      <td>90018</td>\n",
              "      <td>90018</td>\n",
              "      <td>202194</td>\n",
              "      <td>3.7476e+06</td>\n",
              "      <td>785194</td>\n",
              "      <td>90018</td>\n",
              "      <td>90018</td>\n",
              "      <td>90018</td>\n",
              "      <td>90018</td>\n",
              "      <td>257668</td>\n",
              "      <td>1.25403e+06</td>\n",
              "      <td>90018</td>\n",
              "      <td>90018</td>\n",
              "      <td>90018</td>\n",
              "      <td>90018</td>\n",
              "      <td>90018</td>\n",
              "      <td>90018</td>\n",
              "      <td>90018</td>\n",
              "      <td>90018</td>\n",
              "      <td>2.63847e+06</td>\n",
              "    </tr>\n",
              "    <tr>\n",
              "      <th>July</th>\n",
              "      <td>2500</td>\n",
              "      <td>572860</td>\n",
              "      <td>218138</td>\n",
              "      <td>3.96803e+06</td>\n",
              "      <td>2.79366e+06</td>\n",
              "      <td>572860</td>\n",
              "      <td>3.96803e+06</td>\n",
              "      <td>113478</td>\n",
              "      <td>572860</td>\n",
              "      <td>1.32779e+06</td>\n",
              "      <td>1.34056e+06</td>\n",
              "      <td>3.96803e+06</td>\n",
              "      <td>5143</td>\n",
              "      <td>151015</td>\n",
              "      <td>3.96803e+06</td>\n",
              "      <td>572860</td>\n",
              "      <td>572860</td>\n",
              "      <td>379237</td>\n",
              "      <td>379237</td>\n",
              "      <td>214077</td>\n",
              "      <td>572860</td>\n",
              "      <td>1.32779e+06</td>\n",
              "      <td>52719</td>\n",
              "      <td>3.96803e+06</td>\n",
              "      <td>1.32779e+06</td>\n",
              "      <td>572860</td>\n",
              "      <td>4.21624e+06</td>\n",
              "      <td>2.79366e+06</td>\n",
              "      <td>2500</td>\n",
              "      <td>256484</td>\n",
              "      <td>572860</td>\n",
              "      <td>1.32779e+06</td>\n",
              "      <td>1.32779e+06</td>\n",
              "      <td>3.96803e+06</td>\n",
              "      <td>3.96803e+06</td>\n",
              "      <td>218138</td>\n",
              "      <td>2.79366e+06</td>\n",
              "      <td>1.32779e+06</td>\n",
              "      <td>379237</td>\n",
              "      <td>1.32779e+06</td>\n",
              "      <td>...</td>\n",
              "      <td>95302</td>\n",
              "      <td>95302</td>\n",
              "      <td>95302</td>\n",
              "      <td>1.32779e+06</td>\n",
              "      <td>95302</td>\n",
              "      <td>95302</td>\n",
              "      <td>95302</td>\n",
              "      <td>60282</td>\n",
              "      <td>95302</td>\n",
              "      <td>214077</td>\n",
              "      <td>95302</td>\n",
              "      <td>95302</td>\n",
              "      <td>95302</td>\n",
              "      <td>95302</td>\n",
              "      <td>218138</td>\n",
              "      <td>95302</td>\n",
              "      <td>1.34056e+06</td>\n",
              "      <td>95302</td>\n",
              "      <td>572860</td>\n",
              "      <td>379237</td>\n",
              "      <td>95302</td>\n",
              "      <td>95302</td>\n",
              "      <td>214077</td>\n",
              "      <td>3.96803e+06</td>\n",
              "      <td>831371</td>\n",
              "      <td>95302</td>\n",
              "      <td>95302</td>\n",
              "      <td>95302</td>\n",
              "      <td>95302</td>\n",
              "      <td>272814</td>\n",
              "      <td>1.32779e+06</td>\n",
              "      <td>95302</td>\n",
              "      <td>95302</td>\n",
              "      <td>95302</td>\n",
              "      <td>95302</td>\n",
              "      <td>95302</td>\n",
              "      <td>95302</td>\n",
              "      <td>95302</td>\n",
              "      <td>95302</td>\n",
              "      <td>2.79366e+06</td>\n",
              "    </tr>\n",
              "    <tr>\n",
              "      <th>August</th>\n",
              "      <td>2769</td>\n",
              "      <td>636502</td>\n",
              "      <td>242367</td>\n",
              "      <td>4.40892e+06</td>\n",
              "      <td>3.10406e+06</td>\n",
              "      <td>636502</td>\n",
              "      <td>4.40892e+06</td>\n",
              "      <td>126078</td>\n",
              "      <td>636502</td>\n",
              "      <td>1.47531e+06</td>\n",
              "      <td>1.4895e+06</td>\n",
              "      <td>4.40892e+06</td>\n",
              "      <td>5705</td>\n",
              "      <td>167785</td>\n",
              "      <td>4.40892e+06</td>\n",
              "      <td>636502</td>\n",
              "      <td>636502</td>\n",
              "      <td>421365</td>\n",
              "      <td>421365</td>\n",
              "      <td>237854</td>\n",
              "      <td>636502</td>\n",
              "      <td>1.47531e+06</td>\n",
              "      <td>58568</td>\n",
              "      <td>4.40892e+06</td>\n",
              "      <td>1.47531e+06</td>\n",
              "      <td>636502</td>\n",
              "      <td>4.68471e+06</td>\n",
              "      <td>3.10406e+06</td>\n",
              "      <td>2769</td>\n",
              "      <td>284973</td>\n",
              "      <td>636502</td>\n",
              "      <td>1.47531e+06</td>\n",
              "      <td>1.47531e+06</td>\n",
              "      <td>4.40892e+06</td>\n",
              "      <td>4.40892e+06</td>\n",
              "      <td>242367</td>\n",
              "      <td>3.10406e+06</td>\n",
              "      <td>1.47531e+06</td>\n",
              "      <td>421365</td>\n",
              "      <td>1.47531e+06</td>\n",
              "      <td>...</td>\n",
              "      <td>105882</td>\n",
              "      <td>105882</td>\n",
              "      <td>105882</td>\n",
              "      <td>1.47531e+06</td>\n",
              "      <td>105882</td>\n",
              "      <td>105882</td>\n",
              "      <td>105882</td>\n",
              "      <td>66971</td>\n",
              "      <td>105882</td>\n",
              "      <td>237854</td>\n",
              "      <td>105882</td>\n",
              "      <td>105882</td>\n",
              "      <td>105882</td>\n",
              "      <td>105882</td>\n",
              "      <td>242367</td>\n",
              "      <td>105882</td>\n",
              "      <td>1.4895e+06</td>\n",
              "      <td>105882</td>\n",
              "      <td>636502</td>\n",
              "      <td>421365</td>\n",
              "      <td>105882</td>\n",
              "      <td>105882</td>\n",
              "      <td>237854</td>\n",
              "      <td>4.40892e+06</td>\n",
              "      <td>923737</td>\n",
              "      <td>105882</td>\n",
              "      <td>105882</td>\n",
              "      <td>105882</td>\n",
              "      <td>105882</td>\n",
              "      <td>303118</td>\n",
              "      <td>1.47531e+06</td>\n",
              "      <td>105882</td>\n",
              "      <td>105882</td>\n",
              "      <td>105882</td>\n",
              "      <td>105882</td>\n",
              "      <td>105882</td>\n",
              "      <td>105882</td>\n",
              "      <td>105882</td>\n",
              "      <td>105882</td>\n",
              "      <td>3.10406e+06</td>\n",
              "    </tr>\n",
              "  </tbody>\n",
              "</table>\n",
              "<p>5 rows × 501 columns</p>\n",
              "</div>"
            ],
            "text/plain": [
              "         1       2       3            4    ...     498     499     500          501\n",
              "April   1614  369179  140581  2.55718e+06  ...   61420   61420   61420  1.80036e+06\n",
              "May     1946  445559  169665  3.08625e+06  ...   74125   74125   74125  2.17285e+06\n",
              "June    2372  541045  206030   3.7476e+06  ...   90018   90018   90018  2.63847e+06\n",
              "July    2500  572860  218138  3.96803e+06  ...   95302   95302   95302  2.79366e+06\n",
              "August  2769  636502  242367  4.40892e+06  ...  105882  105882  105882  3.10406e+06\n",
              "\n",
              "[5 rows x 501 columns]"
            ]
          },
          "metadata": {
            "tags": []
          },
          "execution_count": 15
        }
      ]
    },
    {
      "cell_type": "code",
      "metadata": {
        "id": "IUM63e1OOGLP",
        "colab_type": "code",
        "colab": {}
      },
      "source": [
        "foreign_visitors = foreign_visitors.transpose()\n",
        "foreign_visitors.drop(foreign_visitors.index[0], inplace=True)"
      ],
      "execution_count": 11,
      "outputs": []
    },
    {
      "cell_type": "markdown",
      "metadata": {
        "id": "l25ki4k5LVmq",
        "colab_type": "text"
      },
      "source": [
        "#Using LSTM (Long Short Term Memory)\n",
        "to predict September and October Foreign visitors"
      ]
    },
    {
      "cell_type": "code",
      "metadata": {
        "id": "WVp_qmir0Amv",
        "colab_type": "code",
        "colab": {}
      },
      "source": [
        ""
      ],
      "execution_count": 14,
      "outputs": []
    },
    {
      "cell_type": "code",
      "metadata": {
        "id": "RHhgSyUszSF_",
        "colab_type": "code",
        "colab": {}
      },
      "source": [
        "# multivariate multi-step lstm \n",
        "from numpy import array\n",
        "from numpy import hstack\n",
        "from keras.models import Sequential\n",
        "from keras.layers import LSTM\n",
        "from keras.layers import Dense\n",
        "from keras.layers import RepeatVector\n",
        "from keras.layers import TimeDistributed\n",
        " "
      ],
      "execution_count": 72,
      "outputs": []
    },
    {
      "cell_type": "code",
      "metadata": {
        "id": "bw8rMk48s4ZJ",
        "colab_type": "code",
        "colab": {}
      },
      "source": [
        "# split a multivariate sequence into samples\n",
        "def split_sequences(sequences, n_steps_in, n_steps_out):\n",
        "\tX, y = list(), list()\n",
        "\tfor i in range(len(sequences)):\n",
        "\t\t# find the end of this pattern\n",
        "\t\tend_ix = i + n_steps_in\n",
        "\t\tout_end_ix = end_ix + n_steps_out\n",
        "\t\t# check if we are beyond the dataset\n",
        "\t\tif out_end_ix > len(sequences):\n",
        "\t\t\tbreak\n",
        "\t\t# gather input and output parts of the pattern\n",
        "\t\tseq_x, seq_y = sequences[i:end_ix, :], sequences[end_ix:out_end_ix, :]\n",
        "\t\tX.append(seq_x)\n",
        "\t\ty.append(seq_y)\n",
        "\treturn array(X), array(y)\n",
        " "
      ],
      "execution_count": 73,
      "outputs": []
    },
    {
      "cell_type": "code",
      "metadata": {
        "id": "Dn1ctEJ_s4hJ",
        "colab_type": "code",
        "colab": {}
      },
      "source": [
        "# defining input sequence\n",
        "in_seq0 = array(foreign_visitors.iloc[0, :].values)\n",
        "in_seq1 = array(foreign_visitors.iloc[1, :].values)\n",
        "in_seq2 = array(foreign_visitors.iloc[2, :].values)\n",
        "in_seq3 = array(foreign_visitors.iloc[3, :].values)\n",
        "in_seq4 = array(foreign_visitors.iloc[4, :].values)\n",
        "\n",
        "out_seq = array([in_seq0[i]+in_seq1[i]+in_seq2[i]+in_seq3[i]+in_seq4[i] for i in range(len(in_seq0))])\n",
        "out_seq = out_seq//(3.4)\n",
        "\n",
        "#[rows, columns] structure\n",
        "in_seq0 = in_seq0.reshape((len(in_seq0), 1))\n",
        "in_seq1 = in_seq1.reshape((len(in_seq1), 1))\n",
        "in_seq2 = in_seq2.reshape((len(in_seq2), 1))\n",
        "in_seq3 = in_seq3.reshape((len(in_seq3), 1))\n",
        "in_seq4 = in_seq4.reshape((len(in_seq4), 1))\n",
        "\n",
        "out_seq = out_seq.reshape((len(out_seq), 1))\n",
        "\n",
        "\n",
        "# horizontally stack columns\n",
        "dataset = hstack((in_seq0, in_seq1, in_seq2, in_seq3, in_seq4, out_seq))\n"
      ],
      "execution_count": 77,
      "outputs": []
    },
    {
      "cell_type": "code",
      "metadata": {
        "id": "YaZlc6IeW56T",
        "colab_type": "code",
        "colab": {}
      },
      "source": [
        "# choosing  number of time steps\n",
        "n_steps_in, n_steps_out = 3, 2\n",
        "# covert into input/output\n",
        "X, y = split_sequences(dataset, n_steps_in, n_steps_out)\n",
        "\n",
        "n_features = X.shape[2]"
      ],
      "execution_count": null,
      "outputs": []
    },
    {
      "cell_type": "code",
      "metadata": {
        "id": "tk0rkCvPW6Qe",
        "colab_type": "code",
        "colab": {}
      },
      "source": [
        "#Model\n",
        "model = Sequential()\n",
        "model.add(LSTM(200, activation='relu', input_shape=(n_steps_in, n_features)))\n",
        "model.add(RepeatVector(n_steps_out))\n",
        "model.add(LSTM(200, activation='relu', return_sequences=True))\n",
        "model.add(TimeDistributed(Dense(n_features)))\n",
        "model.compile(optimizer='adam', loss='mse')\n",
        "# fitting model\n",
        "model.fit(X, y, epochs=300, verbose=0)"
      ],
      "execution_count": null,
      "outputs": []
    },
    {
      "cell_type": "code",
      "metadata": {
        "id": "MWMSv1lmxzuA",
        "colab_type": "code",
        "colab": {
          "base_uri": "https://localhost:8080/",
          "height": 419
        },
        "outputId": "e365f452-657f-4e46-9edc-54913885d170"
      },
      "source": [
        "pd.DataFrame(dataset)"
      ],
      "execution_count": 78,
      "outputs": [
        {
          "output_type": "execute_result",
          "data": {
            "text/html": [
              "<div>\n",
              "<style scoped>\n",
              "    .dataframe tbody tr th:only-of-type {\n",
              "        vertical-align: middle;\n",
              "    }\n",
              "\n",
              "    .dataframe tbody tr th {\n",
              "        vertical-align: top;\n",
              "    }\n",
              "\n",
              "    .dataframe thead th {\n",
              "        text-align: right;\n",
              "    }\n",
              "</style>\n",
              "<table border=\"1\" class=\"dataframe\">\n",
              "  <thead>\n",
              "    <tr style=\"text-align: right;\">\n",
              "      <th></th>\n",
              "      <th>0</th>\n",
              "      <th>1</th>\n",
              "      <th>2</th>\n",
              "      <th>3</th>\n",
              "      <th>4</th>\n",
              "      <th>5</th>\n",
              "    </tr>\n",
              "  </thead>\n",
              "  <tbody>\n",
              "    <tr>\n",
              "      <th>0</th>\n",
              "      <td>1614</td>\n",
              "      <td>1946</td>\n",
              "      <td>2372</td>\n",
              "      <td>2500</td>\n",
              "      <td>2769</td>\n",
              "      <td>3294</td>\n",
              "    </tr>\n",
              "    <tr>\n",
              "      <th>1</th>\n",
              "      <td>369179</td>\n",
              "      <td>445559</td>\n",
              "      <td>541045</td>\n",
              "      <td>572860</td>\n",
              "      <td>636502</td>\n",
              "      <td>754454</td>\n",
              "    </tr>\n",
              "    <tr>\n",
              "      <th>2</th>\n",
              "      <td>140581</td>\n",
              "      <td>169665</td>\n",
              "      <td>206030</td>\n",
              "      <td>218138</td>\n",
              "      <td>242367</td>\n",
              "      <td>287288</td>\n",
              "    </tr>\n",
              "    <tr>\n",
              "      <th>3</th>\n",
              "      <td>2.55718e+06</td>\n",
              "      <td>3.08625e+06</td>\n",
              "      <td>3.7476e+06</td>\n",
              "      <td>3.96803e+06</td>\n",
              "      <td>4.40892e+06</td>\n",
              "      <td>5.22587e+06</td>\n",
              "    </tr>\n",
              "    <tr>\n",
              "      <th>4</th>\n",
              "      <td>1.80036e+06</td>\n",
              "      <td>2.17285e+06</td>\n",
              "      <td>2.63847e+06</td>\n",
              "      <td>2.79366e+06</td>\n",
              "      <td>3.10406e+06</td>\n",
              "      <td>3.67924e+06</td>\n",
              "    </tr>\n",
              "    <tr>\n",
              "      <th>...</th>\n",
              "      <td>...</td>\n",
              "      <td>...</td>\n",
              "      <td>...</td>\n",
              "      <td>...</td>\n",
              "      <td>...</td>\n",
              "      <td>...</td>\n",
              "    </tr>\n",
              "    <tr>\n",
              "      <th>496</th>\n",
              "      <td>61420</td>\n",
              "      <td>74125</td>\n",
              "      <td>90018</td>\n",
              "      <td>95302</td>\n",
              "      <td>105882</td>\n",
              "      <td>125513</td>\n",
              "    </tr>\n",
              "    <tr>\n",
              "      <th>497</th>\n",
              "      <td>61420</td>\n",
              "      <td>74125</td>\n",
              "      <td>90018</td>\n",
              "      <td>95302</td>\n",
              "      <td>105882</td>\n",
              "      <td>125513</td>\n",
              "    </tr>\n",
              "    <tr>\n",
              "      <th>498</th>\n",
              "      <td>61420</td>\n",
              "      <td>74125</td>\n",
              "      <td>90018</td>\n",
              "      <td>95302</td>\n",
              "      <td>105882</td>\n",
              "      <td>125513</td>\n",
              "    </tr>\n",
              "    <tr>\n",
              "      <th>499</th>\n",
              "      <td>61420</td>\n",
              "      <td>74125</td>\n",
              "      <td>90018</td>\n",
              "      <td>95302</td>\n",
              "      <td>105882</td>\n",
              "      <td>125513</td>\n",
              "    </tr>\n",
              "    <tr>\n",
              "      <th>500</th>\n",
              "      <td>1.80036e+06</td>\n",
              "      <td>2.17285e+06</td>\n",
              "      <td>2.63847e+06</td>\n",
              "      <td>2.79366e+06</td>\n",
              "      <td>3.10406e+06</td>\n",
              "      <td>3.67924e+06</td>\n",
              "    </tr>\n",
              "  </tbody>\n",
              "</table>\n",
              "<p>501 rows × 6 columns</p>\n",
              "</div>"
            ],
            "text/plain": [
              "               0            1  ...            4            5\n",
              "0           1614         1946  ...         2769         3294\n",
              "1         369179       445559  ...       636502       754454\n",
              "2         140581       169665  ...       242367       287288\n",
              "3    2.55718e+06  3.08625e+06  ...  4.40892e+06  5.22587e+06\n",
              "4    1.80036e+06  2.17285e+06  ...  3.10406e+06  3.67924e+06\n",
              "..           ...          ...  ...          ...          ...\n",
              "496        61420        74125  ...       105882       125513\n",
              "497        61420        74125  ...       105882       125513\n",
              "498        61420        74125  ...       105882       125513\n",
              "499        61420        74125  ...       105882       125513\n",
              "500  1.80036e+06  2.17285e+06  ...  3.10406e+06  3.67924e+06\n",
              "\n",
              "[501 rows x 6 columns]"
            ]
          },
          "metadata": {
            "tags": []
          },
          "execution_count": 78
        }
      ]
    },
    {
      "cell_type": "markdown",
      "metadata": {
        "id": "vydWP4oCVssY",
        "colab_type": "text"
      },
      "source": [
        "#Important to note\n",
        "Since a multi-step multiple output LSTM is not providing accurate output for October, LSTM is first made to predict for September, the dataset is downloaded and again fed to LSTM for calculating Foregin visitors for October"
      ]
    },
    {
      "cell_type": "code",
      "metadata": {
        "id": "4cT9Mkrv5iXh",
        "colab_type": "code",
        "colab": {
          "resources": {
            "http://localhost:8080/nbextensions/google.colab/files.js": {
              "data": "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",
              "ok": true,
              "headers": [
                [
                  "content-type",
                  "application/javascript"
                ]
              ],
              "status": 200,
              "status_text": ""
            }
          },
          "base_uri": "https://localhost:8080/",
          "height": 72
        },
        "outputId": "7a4e5925-1e82-44b4-b3eb-abef6d7e962a"
      },
      "source": [
        "from google.colab import files\n",
        "up=files.upload()"
      ],
      "execution_count": 81,
      "outputs": [
        {
          "output_type": "display_data",
          "data": {
            "text/html": [
              "\n",
              "     <input type=\"file\" id=\"files-b3e59a98-f8ee-4c28-88b4-c32ad4cf27a6\" name=\"files[]\" multiple disabled\n",
              "        style=\"border:none\" />\n",
              "     <output id=\"result-b3e59a98-f8ee-4c28-88b4-c32ad4cf27a6\">\n",
              "      Upload widget is only available when the cell has been executed in the\n",
              "      current browser session. Please rerun this cell to enable.\n",
              "      </output>\n",
              "      <script src=\"/nbextensions/google.colab/files.js\"></script> "
            ],
            "text/plain": [
              "<IPython.core.display.HTML object>"
            ]
          },
          "metadata": {
            "tags": []
          }
        },
        {
          "output_type": "stream",
          "text": [
            "Saving part02-a.xlsx to part02-a.xlsx\n"
          ],
          "name": "stdout"
        }
      ]
    },
    {
      "cell_type": "code",
      "metadata": {
        "id": "UjjdGdlB5jOk",
        "colab_type": "code",
        "colab": {}
      },
      "source": [
        "foreign_visitors=pd.read_excel('part02-a.xlsx')"
      ],
      "execution_count": 82,
      "outputs": []
    },
    {
      "cell_type": "code",
      "metadata": {
        "id": "lGrE2mjT6Djm",
        "colab_type": "code",
        "colab": {}
      },
      "source": [
        "#foreign_visitors.drop(columns=['Unnamed: 0'], inplace=True)\n",
        "foreign_visitors.rename(columns={0: \"April\",\n",
        "                      1\t: \"May\", 2\t: \"June\", \n",
        "                      3\t: \"July\", \"September\"\t: \"August\", 5\t: \"September\"}, inplace=True)"
      ],
      "execution_count": 86,
      "outputs": []
    },
    {
      "cell_type": "code",
      "metadata": {
        "id": "kwvrOBgi6T6j",
        "colab_type": "code",
        "colab": {}
      },
      "source": [
        "foreign_visitors=foreign_visitors.transpose()"
      ],
      "execution_count": 88,
      "outputs": []
    },
    {
      "cell_type": "code",
      "metadata": {
        "id": "ByqtTLqR5iUL",
        "colab_type": "code",
        "colab": {}
      },
      "source": [
        "# define input sequence\n",
        "in_seq0 = array(foreign_visitors.iloc[0, :].values)\n",
        "in_seq1 = array(foreign_visitors.iloc[1, :].values)\n",
        "in_seq2 = array(foreign_visitors.iloc[2, :].values)\n",
        "in_seq3 = array(foreign_visitors.iloc[3, :].values)\n",
        "in_seq4 = array(foreign_visitors.iloc[4, :].values)\n",
        "in_seq5 = array(foreign_visitors.iloc[5, :].values)\n",
        "\n",
        "out_seq = array([in_seq0[i]+in_seq1[i]+in_seq2[i]+in_seq3[i]+in_seq4[i]+in_seq5[i] for i in range(len(in_seq0))])\n",
        "out_seq = out_seq//(3.9)\n",
        "\n",
        "\n",
        "# convert to [rows, columns] structure\n",
        "in_seq0 = in_seq0.reshape((len(in_seq0), 1))\n",
        "in_seq1 = in_seq1.reshape((len(in_seq1), 1))\n",
        "in_seq2 = in_seq2.reshape((len(in_seq2), 1))\n",
        "in_seq3 = in_seq3.reshape((len(in_seq3), 1))\n",
        "in_seq4 = in_seq4.reshape((len(in_seq4), 1))\n",
        "in_seq5 = in_seq5.reshape((len(in_seq5), 1))\n",
        "\n",
        "\n",
        "out_seq = out_seq.reshape((len(out_seq), 1))\n",
        "#out_seq2 = out_seq2.reshape((len(out_seq2), 1))\n",
        "\n",
        "\n",
        "# horizontally stack columns\n",
        "dataset = hstack((in_seq0, in_seq1, in_seq2, in_seq3, in_seq4, in_seq5, out_seq))\n"
      ],
      "execution_count": 98,
      "outputs": []
    },
    {
      "cell_type": "code",
      "metadata": {
        "id": "u6KiLm0Ds4mY",
        "colab_type": "code",
        "colab": {}
      },
      "source": [
        "# choosing a number of time steps\n",
        "n_steps_in, n_steps_out = 3, 2\n",
        "# covert into input/output\n",
        "X, y = split_sequences(dataset, n_steps_in, n_steps_out)\n",
        "\n",
        "n_features = X.shape[2]"
      ],
      "execution_count": 58,
      "outputs": []
    },
    {
      "cell_type": "code",
      "metadata": {
        "id": "kgBoYNMns49V",
        "colab_type": "code",
        "colab": {}
      },
      "source": [
        "# define model\n",
        "model = Sequential()\n",
        "model.add(LSTM(200, activation='relu', input_shape=(n_steps_in, n_features)))\n",
        "model.add(RepeatVector(n_steps_out))\n",
        "model.add(LSTM(200, activation='relu', return_sequences=True))\n",
        "#model.add(TimeDistributed(Dense(n_features)))\n",
        "model.compile(optimizer='adam', loss='mse')\n",
        "# fit model\n",
        "model.fit(X, y, epochs=300, verbose=0)"
      ],
      "execution_count": 60,
      "outputs": []
    },
    {
      "cell_type": "code",
      "metadata": {
        "id": "wO9hn7Xm6T9q",
        "colab_type": "code",
        "colab": {
          "base_uri": "https://localhost:8080/",
          "height": 419
        },
        "outputId": "686c2685-cf0f-407b-ae6d-81371a200760"
      },
      "source": [
        "pd.DataFrame(dataset)"
      ],
      "execution_count": 99,
      "outputs": [
        {
          "output_type": "execute_result",
          "data": {
            "text/html": [
              "<div>\n",
              "<style scoped>\n",
              "    .dataframe tbody tr th:only-of-type {\n",
              "        vertical-align: middle;\n",
              "    }\n",
              "\n",
              "    .dataframe tbody tr th {\n",
              "        vertical-align: top;\n",
              "    }\n",
              "\n",
              "    .dataframe thead th {\n",
              "        text-align: right;\n",
              "    }\n",
              "</style>\n",
              "<table border=\"1\" class=\"dataframe\">\n",
              "  <thead>\n",
              "    <tr style=\"text-align: right;\">\n",
              "      <th></th>\n",
              "      <th>0</th>\n",
              "      <th>1</th>\n",
              "      <th>2</th>\n",
              "      <th>3</th>\n",
              "      <th>4</th>\n",
              "      <th>5</th>\n",
              "      <th>6</th>\n",
              "    </tr>\n",
              "  </thead>\n",
              "  <tbody>\n",
              "    <tr>\n",
              "      <th>0</th>\n",
              "      <td>1614.0</td>\n",
              "      <td>1946.0</td>\n",
              "      <td>2372.0</td>\n",
              "      <td>2500.0</td>\n",
              "      <td>2769.0</td>\n",
              "      <td>3294.0</td>\n",
              "      <td>3716.0</td>\n",
              "    </tr>\n",
              "    <tr>\n",
              "      <th>1</th>\n",
              "      <td>369179.0</td>\n",
              "      <td>445559.0</td>\n",
              "      <td>541045.0</td>\n",
              "      <td>572860.0</td>\n",
              "      <td>636502.0</td>\n",
              "      <td>754454.0</td>\n",
              "      <td>851179.0</td>\n",
              "    </tr>\n",
              "    <tr>\n",
              "      <th>2</th>\n",
              "      <td>140581.0</td>\n",
              "      <td>169665.0</td>\n",
              "      <td>206030.0</td>\n",
              "      <td>218138.0</td>\n",
              "      <td>242367.0</td>\n",
              "      <td>287288.0</td>\n",
              "      <td>324120.0</td>\n",
              "    </tr>\n",
              "    <tr>\n",
              "      <th>3</th>\n",
              "      <td>2557179.0</td>\n",
              "      <td>3086249.0</td>\n",
              "      <td>3747597.0</td>\n",
              "      <td>3968032.0</td>\n",
              "      <td>4408916.0</td>\n",
              "      <td>5225874.0</td>\n",
              "      <td>5895858.0</td>\n",
              "    </tr>\n",
              "    <tr>\n",
              "      <th>4</th>\n",
              "      <td>1800363.0</td>\n",
              "      <td>2172850.0</td>\n",
              "      <td>2638469.0</td>\n",
              "      <td>2793662.0</td>\n",
              "      <td>3104060.0</td>\n",
              "      <td>3679236.0</td>\n",
              "      <td>4150933.0</td>\n",
              "    </tr>\n",
              "    <tr>\n",
              "      <th>...</th>\n",
              "      <td>...</td>\n",
              "      <td>...</td>\n",
              "      <td>...</td>\n",
              "      <td>...</td>\n",
              "      <td>...</td>\n",
              "      <td>...</td>\n",
              "      <td>...</td>\n",
              "    </tr>\n",
              "    <tr>\n",
              "      <th>496</th>\n",
              "      <td>61420.0</td>\n",
              "      <td>74125.0</td>\n",
              "      <td>90018.0</td>\n",
              "      <td>95302.0</td>\n",
              "      <td>105882.0</td>\n",
              "      <td>125513.0</td>\n",
              "      <td>141605.0</td>\n",
              "    </tr>\n",
              "    <tr>\n",
              "      <th>497</th>\n",
              "      <td>61420.0</td>\n",
              "      <td>74125.0</td>\n",
              "      <td>90018.0</td>\n",
              "      <td>95302.0</td>\n",
              "      <td>105882.0</td>\n",
              "      <td>125513.0</td>\n",
              "      <td>141605.0</td>\n",
              "    </tr>\n",
              "    <tr>\n",
              "      <th>498</th>\n",
              "      <td>61420.0</td>\n",
              "      <td>74125.0</td>\n",
              "      <td>90018.0</td>\n",
              "      <td>95302.0</td>\n",
              "      <td>105882.0</td>\n",
              "      <td>125513.0</td>\n",
              "      <td>141605.0</td>\n",
              "    </tr>\n",
              "    <tr>\n",
              "      <th>499</th>\n",
              "      <td>61420.0</td>\n",
              "      <td>74125.0</td>\n",
              "      <td>90018.0</td>\n",
              "      <td>95302.0</td>\n",
              "      <td>105882.0</td>\n",
              "      <td>125513.0</td>\n",
              "      <td>141605.0</td>\n",
              "    </tr>\n",
              "    <tr>\n",
              "      <th>500</th>\n",
              "      <td>1800363.0</td>\n",
              "      <td>2172850.0</td>\n",
              "      <td>2638469.0</td>\n",
              "      <td>2793662.0</td>\n",
              "      <td>3104060.0</td>\n",
              "      <td>3679236.0</td>\n",
              "      <td>4150933.0</td>\n",
              "    </tr>\n",
              "  </tbody>\n",
              "</table>\n",
              "<p>501 rows × 7 columns</p>\n",
              "</div>"
            ],
            "text/plain": [
              "             0          1          2  ...          4          5          6\n",
              "0       1614.0     1946.0     2372.0  ...     2769.0     3294.0     3716.0\n",
              "1     369179.0   445559.0   541045.0  ...   636502.0   754454.0   851179.0\n",
              "2     140581.0   169665.0   206030.0  ...   242367.0   287288.0   324120.0\n",
              "3    2557179.0  3086249.0  3747597.0  ...  4408916.0  5225874.0  5895858.0\n",
              "4    1800363.0  2172850.0  2638469.0  ...  3104060.0  3679236.0  4150933.0\n",
              "..         ...        ...        ...  ...        ...        ...        ...\n",
              "496    61420.0    74125.0    90018.0  ...   105882.0   125513.0   141605.0\n",
              "497    61420.0    74125.0    90018.0  ...   105882.0   125513.0   141605.0\n",
              "498    61420.0    74125.0    90018.0  ...   105882.0   125513.0   141605.0\n",
              "499    61420.0    74125.0    90018.0  ...   105882.0   125513.0   141605.0\n",
              "500  1800363.0  2172850.0  2638469.0  ...  3104060.0  3679236.0  4150933.0\n",
              "\n",
              "[501 rows x 7 columns]"
            ]
          },
          "metadata": {
            "tags": []
          },
          "execution_count": 99
        }
      ]
    },
    {
      "cell_type": "code",
      "metadata": {
        "id": "Qojt-apLs5AZ",
        "colab_type": "code",
        "colab": {}
      },
      "source": [
        "output=pd.DataFrame(dataset)"
      ],
      "execution_count": 100,
      "outputs": []
    },
    {
      "cell_type": "code",
      "metadata": {
        "id": "ELNW8XWt2syL",
        "colab_type": "code",
        "colab": {
          "base_uri": "https://localhost:8080/",
          "height": 34
        },
        "outputId": "4a8b04a3-8f90-43fd-8242-260a78d7ec5f"
      },
      "source": [
        "from google.colab import drive\n",
        "drive.mount('drive')"
      ],
      "execution_count": 70,
      "outputs": [
        {
          "output_type": "stream",
          "text": [
            "Mounted at drive\n"
          ],
          "name": "stdout"
        }
      ]
    },
    {
      "cell_type": "code",
      "metadata": {
        "id": "ThPtDd163ClM",
        "colab_type": "code",
        "colab": {}
      },
      "source": [
        "output.to_csv('october.csv')\n",
        "!cp october.csv \"drive/My Drive/\""
      ],
      "execution_count": 101,
      "outputs": []
    },
    {
      "cell_type": "markdown",
      "metadata": {
        "id": "G0-Akii-XitD",
        "colab_type": "text"
      },
      "source": [
        "#Regression Model Training\n",
        "In the training data, foreign visitors is replaces by LSTM predicted october foreign visitors, and fed to the same Random Forest Model"
      ]
    },
    {
      "cell_type": "code",
      "metadata": {
        "id": "iy8GUkFE_frm",
        "colab_type": "code",
        "colab": {}
      },
      "source": [
        "x_train=train_data.iloc[:, 1:14].values\n",
        "y_train=train_data.iloc[:, -1].values\n",
        "#Train data is same, just replaced Foreign visitors with October foreign visitors"
      ],
      "execution_count": null,
      "outputs": []
    },
    {
      "cell_type": "code",
      "metadata": {
        "id": "rJSlK3mMXhZL",
        "colab_type": "code",
        "colab": {}
      },
      "source": [
        "from sklearn.ensemble import RandomForestRegressor\n",
        "\n",
        "rf = RandomForestRegressor(n_estimators = 600, random_state = 0) \n",
        "rf.fit(x_train, y_train)\n",
        "y_pred = rf.predict(test_data)"
      ],
      "execution_count": null,
      "outputs": []
    },
    {
      "cell_type": "code",
      "metadata": {
        "id": "e4m7cd6EXhiT",
        "colab_type": "code",
        "colab": {}
      },
      "source": [
        "from sklearn.model_selection import cross_val_score\n",
        "r2 = cross_val_score(ran, x_train, y_train, cv=10, scoring='r2')\n",
        "r2_mean=np.mean(r2)\n",
        "print(r2_mean)"
      ],
      "execution_count": null,
      "outputs": []
    },
    {
      "cell_type": "code",
      "metadata": {
        "id": "TfCQwm56Xh87",
        "colab_type": "code",
        "colab": {}
      },
      "source": [
        ""
      ],
      "execution_count": null,
      "outputs": []
    },
    {
      "cell_type": "code",
      "metadata": {
        "id": "BewVgoihXiDI",
        "colab_type": "code",
        "colab": {}
      },
      "source": [
        ""
      ],
      "execution_count": null,
      "outputs": []
    },
    {
      "cell_type": "code",
      "metadata": {
        "id": "chp4x-EWXiBE",
        "colab_type": "code",
        "colab": {}
      },
      "source": [
        ""
      ],
      "execution_count": null,
      "outputs": []
    },
    {
      "cell_type": "code",
      "metadata": {
        "id": "__lvMzUWXh7N",
        "colab_type": "code",
        "colab": {}
      },
      "source": [
        ""
      ],
      "execution_count": null,
      "outputs": []
    },
    {
      "cell_type": "code",
      "metadata": {
        "id": "njfZSTTUXhez",
        "colab_type": "code",
        "colab": {}
      },
      "source": [
        ""
      ],
      "execution_count": null,
      "outputs": []
    },
    {
      "cell_type": "code",
      "metadata": {
        "id": "HOeNC7hLXhcj",
        "colab_type": "code",
        "colab": {}
      },
      "source": [
        ""
      ],
      "execution_count": null,
      "outputs": []
    },
    {
      "cell_type": "code",
      "metadata": {
        "id": "5626iVDpXhXK",
        "colab_type": "code",
        "colab": {}
      },
      "source": [
        ""
      ],
      "execution_count": null,
      "outputs": []
    }
  ]
}