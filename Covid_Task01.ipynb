{
  "nbformat": 4,
  "nbformat_minor": 0,
  "metadata": {
    "colab": {
      "name": "Covid-Task01.ipynb",
      "provenance": [],
      "collapsed_sections": [],
      "authorship_tag": "ABX9TyO+LoooCI3F3HZ7VdEzqn64",
      "include_colab_link": true
    },
    "kernelspec": {
      "name": "python3",
      "display_name": "Python 3"
    }
  },
  "cells": [
    {
      "cell_type": "markdown",
      "metadata": {
        "id": "view-in-github",
        "colab_type": "text"
      },
      "source": [
        "<a href=\"https://colab.research.google.com/github/mrunallll/Covid-Cases-Flipr-Hackathon6.0/blob/master/Covid_Task01.ipynb\" target=\"_parent\"><img src=\"https://colab.research.google.com/assets/colab-badge.svg\" alt=\"Open In Colab\"/></a>"
      ]
    },
    {
      "cell_type": "code",
      "metadata": {
        "id": "4JutDZEhVvoQ",
        "colab_type": "code",
        "colab": {}
      },
      "source": [
        "import numpy as np\n",
        "import matplotlib.pyplot as plt\n",
        "%matplotlib inline\n",
        "import pandas as pd\n",
        "#import pandas_profiling\n",
        "from pandas import DataFrame\n",
        "import seaborn as sns\n",
        "import warnings\n",
        "plt.style.use('ggplot')\n",
        "plt.rcParams['figure.figsize']=(12,8)"
      ],
      "execution_count": 102,
      "outputs": []
    },
    {
      "cell_type": "code",
      "metadata": {
        "id": "TKBvaqsCV-J1",
        "colab_type": "code",
        "colab": {
          "resources": {
            "http://localhost:8080/nbextensions/google.colab/files.js": {
              "data": "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",
              "ok": true,
              "headers": [
                [
                  "content-type",
                  "application/javascript"
                ]
              ],
              "status": 200,
              "status_text": ""
            }
          },
          "base_uri": "https://localhost:8080/",
          "height": 106
        },
        "outputId": "2c6a169a-2baf-4f3d-dc46-e47f9a14384b"
      },
      "source": [
        "from google.colab import files\n",
        "up=files.upload()"
      ],
      "execution_count": 2,
      "outputs": [
        {
          "output_type": "display_data",
          "data": {
            "text/html": [
              "\n",
              "     <input type=\"file\" id=\"files-3a7bf3ce-6a5e-4664-9a3b-ea13f421e1fd\" name=\"files[]\" multiple disabled\n",
              "        style=\"border:none\" />\n",
              "     <output id=\"result-3a7bf3ce-6a5e-4664-9a3b-ea13f421e1fd\">\n",
              "      Upload widget is only available when the cell has been executed in the\n",
              "      current browser session. Please rerun this cell to enable.\n",
              "      </output>\n",
              "      <script src=\"/nbextensions/google.colab/files.js\"></script> "
            ],
            "text/plain": [
              "<IPython.core.display.HTML object>"
            ]
          },
          "metadata": {
            "tags": []
          }
        },
        {
          "output_type": "stream",
          "text": [
            "Saving Train_dataset.xlsx to Train_dataset.xlsx\n",
            "Saving Test_dataset.xlsx to Test_dataset.xlsx\n"
          ],
          "name": "stdout"
        }
      ]
    },
    {
      "cell_type": "code",
      "metadata": {
        "id": "JsdzXIEBV-Mw",
        "colab_type": "code",
        "colab": {}
      },
      "source": [
        "train_data=pd.read_excel('Train_dataset.xlsx')\n",
        "test_data=pd.read_excel('Test_dataset.xlsx')\n"
      ],
      "execution_count": 103,
      "outputs": []
    },
    {
      "cell_type": "markdown",
      "metadata": {
        "id": "cxCbWwCTTVVv",
        "colab_type": "text"
      },
      "source": [
        "1. Exploratory Data Analysis\n",
        "2. Data Preprocessing (cleaning)\n",
        "3. Model selection\n",
        "4. Model Fitting\n",
        "5. Hyperparameter Tuning\n",
        "6. Prediction & Visualization"
      ]
    },
    {
      "cell_type": "markdown",
      "metadata": {
        "id": "Lgr0VWS3T0ED",
        "colab_type": "text"
      },
      "source": [
        "#Exploratory Data Analysis\n",
        "Train_data profile report-\n",
        "\n",
        "Test_data profile report-"
      ]
    },
    {
      "cell_type": "code",
      "metadata": {
        "id": "Zzc0S6CaOe00",
        "colab_type": "code",
        "colab": {
          "base_uri": "https://localhost:8080/",
          "height": 578
        },
        "outputId": "3c21fcc8-691c-4ded-8f03-39645f57102d"
      },
      "source": [
        "sorted(train_data['State'].unique())"
      ],
      "execution_count": 104,
      "outputs": [
        {
          "output_type": "execute_result",
          "data": {
            "text/plain": [
              "['Andaman and Nicobar Islands',\n",
              " 'Andhra Pradesh',\n",
              " 'Assam',\n",
              " 'Bihar',\n",
              " 'Chandigarh',\n",
              " 'Chhattisgarh',\n",
              " 'Delhi',\n",
              " 'Goa',\n",
              " 'Gujarat',\n",
              " 'Haryana',\n",
              " 'Himachal Pradesh',\n",
              " 'Jammu and Kashmir',\n",
              " 'Jharkhand',\n",
              " 'Karnataka',\n",
              " 'Kerala',\n",
              " 'Madhya Pradesh',\n",
              " 'Maharashtra',\n",
              " 'Manipur',\n",
              " 'Meghalaya',\n",
              " 'Mizoram',\n",
              " 'Nagaland',\n",
              " 'Odisha',\n",
              " 'Puducherry',\n",
              " 'Punjab',\n",
              " 'Rajasthan',\n",
              " 'Sikkim',\n",
              " 'Tamil Nadu',\n",
              " 'Tamil nadu',\n",
              " 'Telangana',\n",
              " 'Tripura',\n",
              " 'Uttar Pradesh',\n",
              " 'Uttarakhand',\n",
              " 'West Bengal']"
            ]
          },
          "metadata": {
            "tags": []
          },
          "execution_count": 104
        }
      ]
    },
    {
      "cell_type": "markdown",
      "metadata": {
        "id": "SDETvaT7Q6ZS",
        "colab_type": "text"
      },
      "source": [
        "Observation-\n",
        "Two '**Tamil Nadu**' values are present which need to be merged into one"
      ]
    },
    {
      "cell_type": "code",
      "metadata": {
        "id": "WqQBwpNDOe4d",
        "colab_type": "code",
        "colab": {
          "base_uri": "https://localhost:8080/",
          "height": 646
        },
        "outputId": "e8212e4d-bd7f-416f-dba2-61b52af4d351"
      },
      "source": [
        "sorted(train_data['Type'].unique())"
      ],
      "execution_count": 105,
      "outputs": [
        {
          "output_type": "execute_result",
          "data": {
            "text/plain": [
              "['C-1T',\n",
              " 'C.B',\n",
              " 'C.M.C',\n",
              " 'C.T',\n",
              " 'C.T.',\n",
              " 'CMC',\n",
              " 'M',\n",
              " 'M Cl',\n",
              " 'M.B',\n",
              " 'M.B.',\n",
              " 'M.C',\n",
              " 'M.Cl',\n",
              " 'M.Cl.',\n",
              " 'M.Corp',\n",
              " 'M.Corp.',\n",
              " 'MB',\n",
              " 'MPUA',\n",
              " 'N.A',\n",
              " 'N.A.C',\n",
              " 'N.P',\n",
              " 'N.P.',\n",
              " 'N.P.P',\n",
              " 'N.P.P.',\n",
              " 'N.Pd',\n",
              " 'N.T',\n",
              " 'NP',\n",
              " 'NPP',\n",
              " 'Nagar Parishad',\n",
              " 'Np',\n",
              " 'T',\n",
              " 'T.C',\n",
              " 'T.M.C',\n",
              " 'T.M.C.',\n",
              " 'T.P',\n",
              " 'T.P.',\n",
              " 'U.A',\n",
              " 'UA']"
            ]
          },
          "metadata": {
            "tags": []
          },
          "execution_count": 105
        }
      ]
    },
    {
      "cell_type": "markdown",
      "metadata": {
        "id": "qOEqJ6oARLQY",
        "colab_type": "text"
      },
      "source": [
        "Observation- Extreme number of Types present\n",
        "\n",
        "Types need to be observed and grouped according to their similarity"
      ]
    },
    {
      "cell_type": "code",
      "metadata": {
        "id": "UJCmMrZpVLs8",
        "colab_type": "code",
        "colab": {}
      },
      "source": [
        ""
      ],
      "execution_count": null,
      "outputs": []
    },
    {
      "cell_type": "markdown",
      "metadata": {
        "id": "wUngxxLuUGCY",
        "colab_type": "text"
      },
      "source": [
        "#DATA PREPROCESSING\n",
        "1. Grouping, arranging and merging instances of States and types\n",
        "2. Dropping Popuation [2001] since it is an outdated feature and has no impact\n",
        "3. Dropping rows having more than 4 missing cells\n",
        "4. Comprehensive Missing data Imputation\n",
        "5. Encoding Categorical Features\n",
        "6. Feature scaling (if required)\n",
        "7. Normalization (cannot be done because data is based on covid cases of population and it cannot be 'SHOULD NOT' be normalised)"
      ]
    },
    {
      "cell_type": "code",
      "metadata": {
        "id": "7mE2wAzFOfB0",
        "colab_type": "code",
        "colab": {
          "base_uri": "https://localhost:8080/",
          "height": 102
        },
        "outputId": "a6f0784c-5ff1-4b63-8ada-8c28ddb3bc7d"
      },
      "source": [
        "indices = list(train_data[train_data['Type']=='U.A'].index)\n",
        "for i in indices:\n",
        "     train_data['Type'][i]= 'UA'"
      ],
      "execution_count": 106,
      "outputs": [
        {
          "output_type": "stream",
          "text": [
            "/usr/local/lib/python3.6/dist-packages/ipykernel_launcher.py:3: SettingWithCopyWarning: \n",
            "A value is trying to be set on a copy of a slice from a DataFrame\n",
            "\n",
            "See the caveats in the documentation: https://pandas.pydata.org/pandas-docs/stable/user_guide/indexing.html#returning-a-view-versus-a-copy\n",
            "  This is separate from the ipykernel package so we can avoid doing imports until\n"
          ],
          "name": "stderr"
        }
      ]
    },
    {
      "cell_type": "markdown",
      "metadata": {
        "id": "WvnRygXWRf9G",
        "colab_type": "text"
      },
      "source": [
        "Removing rows (cities) that contain 4 or more null values"
      ]
    },
    {
      "cell_type": "code",
      "metadata": {
        "id": "7gL5E_cbOfFE",
        "colab_type": "code",
        "colab": {
          "base_uri": "https://localhost:8080/",
          "height": 34
        },
        "outputId": "a6c78083-a95d-4732-8d5e-f4cf3e7db421"
      },
      "source": [
        "null_val = train_data.isnull().sum(axis=1)\n",
        "null_indices = []\n",
        "for i in range(len(null_val)):\n",
        "    if null_val[i]>=4:\n",
        "        null_indices.append(i)\n",
        "null_indices\n",
        "\n",
        "train_data.drop(null_indices,inplace =True)\n",
        "train_data.shape"
      ],
      "execution_count": 107,
      "outputs": [
        {
          "output_type": "execute_result",
          "data": {
            "text/plain": [
              "(646, 16)"
            ]
          },
          "metadata": {
            "tags": []
          },
          "execution_count": 107
        }
      ]
    },
    {
      "cell_type": "code",
      "metadata": {
        "id": "4V-51o9bOVHy",
        "colab_type": "code",
        "colab": {}
      },
      "source": [
        "#train_data = pd.read_excel('Train_dataset.xlsx')\n",
        "train_data.drop('Popuation [2001]',axis=1,inplace =True)"
      ],
      "execution_count": 108,
      "outputs": []
    },
    {
      "cell_type": "code",
      "metadata": {
        "id": "7HDitSMOOey0",
        "colab_type": "code",
        "colab": {}
      },
      "source": [
        ""
      ],
      "execution_count": null,
      "outputs": []
    },
    {
      "cell_type": "markdown",
      "metadata": {
        "id": "RKU1ZOfcIzgI",
        "colab_type": "text"
      },
      "source": [
        "Imputing missing Values"
      ]
    },
    {
      "cell_type": "code",
      "metadata": {
        "id": "FTnMX3GG26Mw",
        "colab_type": "code",
        "colab": {
          "base_uri": "https://localhost:8080/",
          "height": 289
        },
        "outputId": "6da2147b-7215-417d-cb36-e6f5c29a9d60"
      },
      "source": [
        "train_data.isnull().sum()"
      ],
      "execution_count": 109,
      "outputs": [
        {
          "output_type": "execute_result",
          "data": {
            "text/plain": [
              "City                  0\n",
              "State                 0\n",
              "Type                  0\n",
              "Population [2011]    36\n",
              "Sex Ratio             0\n",
              "Median Age            9\n",
              "Avg Temp              3\n",
              "SWM                   1\n",
              "Toilets Avl          18\n",
              "Water Purity         27\n",
              "H Index              10\n",
              "Female Population    16\n",
              "# of hospitals        6\n",
              "Foreign Visitors     81\n",
              "Covid Cases           0\n",
              "dtype: int64"
            ]
          },
          "metadata": {
            "tags": []
          },
          "execution_count": 109
        }
      ]
    },
    {
      "cell_type": "code",
      "metadata": {
        "id": "GfeJbHpvzH4H",
        "colab_type": "code",
        "colab": {}
      },
      "source": [
        "#converting to np.NaN\n",
        "import numpy as np\n",
        "train_data= train_data.replace('NA', np.NaN)\n",
        "train_data= train_data.replace(' ', np.NaN)"
      ],
      "execution_count": 110,
      "outputs": []
    },
    {
      "cell_type": "markdown",
      "metadata": {
        "id": "7BkqBhvlR5fA",
        "colab_type": "text"
      },
      "source": [
        "#Categorical values cannot be imputed through median, mean or any statistical Method.\n",
        "Missing values for SWM are filled by \"MEDIUM\" which is an indicator of mean and median"
      ]
    },
    {
      "cell_type": "code",
      "metadata": {
        "id": "sMnQN-wU1qF6",
        "colab_type": "code",
        "colab": {}
      },
      "source": [
        "train_data[\"SWM\"].fillna('MEDIUM', inplace = True)  #for swm, since MEDIUM is an indication of mean and median. "
      ],
      "execution_count": 111,
      "outputs": []
    },
    {
      "cell_type": "markdown",
      "metadata": {
        "id": "JVODepFkSK87",
        "colab_type": "text"
      },
      "source": [
        "Imputing missing values by grouping them by States and Types\n",
        "Type is used to determine *water purity* and *# of hospitals*"
      ]
    },
    {
      "cell_type": "code",
      "metadata": {
        "id": "xF0XyttS6j8s",
        "colab_type": "code",
        "colab": {}
      },
      "source": [
        "train_data[\"Population [2011]\"] = train_data.groupby(\"State\").transform(lambda x: x.fillna(x.median()))[\"Population [2011]\"]\n",
        "train_data[\"Sex Ratio\"] = train_data.groupby(\"State\").transform(lambda x: x.fillna(x.median()))[\"Sex Ratio\"]\n",
        "train_data[\"Median Age\"] = train_data.groupby(\"State\").transform(lambda x: x.fillna(x.median()))[\"Median Age\"]\n",
        "train_data[\"Avg Temp\"] = train_data.groupby(\"State\").transform(lambda x: x.fillna(x.median()))[\"Avg Temp\"]\n",
        "train_data[\"Toilets Avl\"] = train_data.groupby(\"State\").transform(lambda x: x.fillna(x.mean()))[\"Toilets Avl\"]\n",
        "\n",
        "#water purity depends on type of city/municipal corporation\n",
        "train_data[\"Water Purity\"] = train_data.groupby(\"Type\").transform(lambda x: x.fillna(x.median()))[\"Water Purity\"]\n",
        "\n",
        "train_data[\"H Index\"] = train_data.groupby(\"State\").transform(lambda x: x.fillna(x.mean()))[\"H Index\"]\n",
        "train_data[\"Female Population\"] = train_data.groupby(\"State\").transform(lambda x: x.fillna(x.median()))[\"Female Population\"]\n",
        "\n",
        "#water purity depends on type of city/municipal corporation\n",
        "train_data[\"# of hospitals\"] = train_data.groupby(\"Type\").transform(lambda x: x.fillna(x.median()))[\"# of hospitals\"]\n",
        "train_data[\"Foreign Visitors\"] = train_data.groupby(\"State\").transform(lambda x: x.fillna(x.median()))[\"Foreign Visitors\"]"
      ],
      "execution_count": 112,
      "outputs": []
    },
    {
      "cell_type": "markdown",
      "metadata": {
        "id": "uK_jR-W4Sv9H",
        "colab_type": "text"
      },
      "source": [
        "Even after imputing by groupby, some missing values are left.\n",
        "\n",
        "They are imputed by forward fill, since they are very less in number.\n"
      ]
    },
    {
      "cell_type": "code",
      "metadata": {
        "id": "KfJ9cxPz2VPw",
        "colab_type": "code",
        "colab": {}
      },
      "source": [
        "train_data[\"Avg Temp\"].fillna(method='ffill', inplace = True)\n",
        "train_data[\"Toilets Avl\"].fillna(method='ffill', inplace = True) \n",
        "train_data[\"H Index\"].fillna(method='ffill', inplace = True) \n",
        "train_data[\"Female Population\"].fillna(method='ffill', inplace = True) \n",
        "train_data[\"Water Purity\"].fillna(method='ffill', inplace = True)  "
      ],
      "execution_count": 113,
      "outputs": []
    },
    {
      "cell_type": "code",
      "metadata": {
        "id": "t7E1fL3QM-rK",
        "colab_type": "code",
        "colab": {
          "base_uri": "https://localhost:8080/",
          "height": 289
        },
        "outputId": "201ffa58-ee76-41a6-b5c4-6841c5f9fc59"
      },
      "source": [
        "#train_data=pd.DataFrame(train_data)\n",
        "train_data.isnull().sum()"
      ],
      "execution_count": 114,
      "outputs": [
        {
          "output_type": "execute_result",
          "data": {
            "text/plain": [
              "City                 0\n",
              "State                0\n",
              "Type                 0\n",
              "Population [2011]    0\n",
              "Sex Ratio            0\n",
              "Median Age           0\n",
              "Avg Temp             0\n",
              "SWM                  0\n",
              "Toilets Avl          0\n",
              "Water Purity         0\n",
              "H Index              0\n",
              "Female Population    0\n",
              "# of hospitals       0\n",
              "Foreign Visitors     0\n",
              "Covid Cases          0\n",
              "dtype: int64"
            ]
          },
          "metadata": {
            "tags": []
          },
          "execution_count": 114
        }
      ]
    },
    {
      "cell_type": "code",
      "metadata": {
        "id": "UjXLpC8Sxvvq",
        "colab_type": "code",
        "colab": {
          "base_uri": "https://localhost:8080/",
          "height": 289
        },
        "outputId": "eb847856-09b5-4909-fdac-7958bf2ced2e"
      },
      "source": [
        "#Checking the datatypes\n",
        "print(train_data.dtypes)"
      ],
      "execution_count": 115,
      "outputs": [
        {
          "output_type": "stream",
          "text": [
            "City                  object\n",
            "State                 object\n",
            "Type                  object\n",
            "Population [2011]    float64\n",
            "Sex Ratio            float64\n",
            "Median Age           float64\n",
            "Avg Temp             float64\n",
            "SWM                   object\n",
            "Toilets Avl          float64\n",
            "Water Purity         float64\n",
            "H Index              float64\n",
            "Female Population    float64\n",
            "# of hospitals       float64\n",
            "Foreign Visitors     float64\n",
            "Covid Cases            int64\n",
            "dtype: object\n"
          ],
          "name": "stdout"
        }
      ]
    },
    {
      "cell_type": "markdown",
      "metadata": {
        "id": "_pskY35UI6v4",
        "colab_type": "text"
      },
      "source": [
        "#Encoding categorical variables"
      ]
    },
    {
      "cell_type": "code",
      "metadata": {
        "id": "haQ8dExiGKb_",
        "colab_type": "code",
        "colab": {}
      },
      "source": [
        "from sklearn.preprocessing import LabelEncoder, OneHotEncoder\n",
        "labelencoder = LabelEncoder()\n",
        "train_data=train_data.iloc[:,:].values\n",
        "train_data[:, 1] = labelencoder.fit_transform(train_data[:, 1])\n",
        "train_data[:, 2] = labelencoder.fit_transform(train_data[:, 2])\n",
        "train_data[:, 7] = labelencoder.fit_transform(train_data[:, 7])\n",
        "#onehotencoder = OneHotEncoder(categorical_features = [0])\n",
        "#X = onehotencoder.fit_transform(X).toarray()"
      ],
      "execution_count": 116,
      "outputs": []
    },
    {
      "cell_type": "code",
      "metadata": {
        "id": "DG0E_it8oyyX",
        "colab_type": "code",
        "colab": {}
      },
      "source": [
        "train_data=pd.DataFrame(train_data)\n",
        "train_data.rename(columns={0: \"City\", 1: \"State\",\n",
        "                      2: \"Type\", 3: \"Population [2011]\", \n",
        "                      4: \"Sex Ratio\", 5: \"Median Age\",\n",
        "                      6: \"Avg Temp\", 7: \"SWM\",\n",
        "                      8: \"Toilets Avl\", 9: \"Water Purity\",\n",
        "                      10: \"H Index\", 11: \"Female Population\", \n",
        "                      12: \"# of hospitals\", 13: \"Foreign Visitors\", \n",
        "                      14: \"Covid Cases\"}, inplace=True)"
      ],
      "execution_count": 118,
      "outputs": []
    },
    {
      "cell_type": "code",
      "metadata": {
        "id": "uKSGTGk1J9EK",
        "colab_type": "code",
        "colab": {}
      },
      "source": [
        "#converting toilets column to int\n",
        "toilets= np.array(train_data['Toilets Avl'])\n",
        "toilets = toilets.astype('int64')\n",
        "train_data['Toilets Avl'] = toilets"
      ],
      "execution_count": 122,
      "outputs": []
    },
    {
      "cell_type": "code",
      "metadata": {
        "id": "PKeLyoTF7d9R",
        "colab_type": "code",
        "colab": {
          "base_uri": "https://localhost:8080/",
          "height": 703
        },
        "outputId": "566e5e72-1ee6-403b-9a32-ffdbd7352793"
      },
      "source": [
        "train_data.head(20)"
      ],
      "execution_count": 123,
      "outputs": [
        {
          "output_type": "execute_result",
          "data": {
            "text/html": [
              "<div>\n",
              "<style scoped>\n",
              "    .dataframe tbody tr th:only-of-type {\n",
              "        vertical-align: middle;\n",
              "    }\n",
              "\n",
              "    .dataframe tbody tr th {\n",
              "        vertical-align: top;\n",
              "    }\n",
              "\n",
              "    .dataframe thead th {\n",
              "        text-align: right;\n",
              "    }\n",
              "</style>\n",
              "<table border=\"1\" class=\"dataframe\">\n",
              "  <thead>\n",
              "    <tr style=\"text-align: right;\">\n",
              "      <th></th>\n",
              "      <th>City</th>\n",
              "      <th>State</th>\n",
              "      <th>Type</th>\n",
              "      <th>Population [2011]</th>\n",
              "      <th>Sex Ratio</th>\n",
              "      <th>Median Age</th>\n",
              "      <th>Avg Temp</th>\n",
              "      <th>SWM</th>\n",
              "      <th>Toilets Avl</th>\n",
              "      <th>Water Purity</th>\n",
              "      <th>H Index</th>\n",
              "      <th>Female Population</th>\n",
              "      <th># of hospitals</th>\n",
              "      <th>Foreign Visitors</th>\n",
              "      <th>Covid Cases</th>\n",
              "    </tr>\n",
              "  </thead>\n",
              "  <tbody>\n",
              "    <tr>\n",
              "      <th>0</th>\n",
              "      <td>Mumbai</td>\n",
              "      <td>16</td>\n",
              "      <td>9</td>\n",
              "      <td>1.24424e+07</td>\n",
              "      <td>878</td>\n",
              "      <td>23</td>\n",
              "      <td>32</td>\n",
              "      <td>2</td>\n",
              "      <td>219</td>\n",
              "      <td>150</td>\n",
              "      <td>0.70044</td>\n",
              "      <td>1.09244e+07</td>\n",
              "      <td>159</td>\n",
              "      <td>4.40892e+06</td>\n",
              "      <td>163115</td>\n",
              "    </tr>\n",
              "    <tr>\n",
              "      <th>1</th>\n",
              "      <td>Delhi</td>\n",
              "      <td>6</td>\n",
              "      <td>9</td>\n",
              "      <td>1.10078e+07</td>\n",
              "      <td>858</td>\n",
              "      <td>27</td>\n",
              "      <td>30</td>\n",
              "      <td>2</td>\n",
              "      <td>215</td>\n",
              "      <td>196</td>\n",
              "      <td>0.920018</td>\n",
              "      <td>9.44472e+06</td>\n",
              "      <td>148</td>\n",
              "      <td>2.37917e+06</td>\n",
              "      <td>80188</td>\n",
              "    </tr>\n",
              "    <tr>\n",
              "      <th>2</th>\n",
              "      <td>Bangalore</td>\n",
              "      <td>13</td>\n",
              "      <td>13</td>\n",
              "      <td>8.43668e+06</td>\n",
              "      <td>936</td>\n",
              "      <td>28</td>\n",
              "      <td>37</td>\n",
              "      <td>0</td>\n",
              "      <td>212</td>\n",
              "      <td>102</td>\n",
              "      <td>0.0970853</td>\n",
              "      <td>7.89673e+06</td>\n",
              "      <td>123</td>\n",
              "      <td>636502</td>\n",
              "      <td>141000</td>\n",
              "    </tr>\n",
              "    <tr>\n",
              "      <th>3</th>\n",
              "      <td>Hyderabad</td>\n",
              "      <td>27</td>\n",
              "      <td>13</td>\n",
              "      <td>6.80997e+06</td>\n",
              "      <td>930</td>\n",
              "      <td>23</td>\n",
              "      <td>31</td>\n",
              "      <td>2</td>\n",
              "      <td>217</td>\n",
              "      <td>118</td>\n",
              "      <td>0.827744</td>\n",
              "      <td>6.33327e+06</td>\n",
              "      <td>110</td>\n",
              "      <td>126078</td>\n",
              "      <td>55123</td>\n",
              "    </tr>\n",
              "    <tr>\n",
              "      <th>4</th>\n",
              "      <td>Ahmedabad</td>\n",
              "      <td>8</td>\n",
              "      <td>13</td>\n",
              "      <td>5.57058e+06</td>\n",
              "      <td>852</td>\n",
              "      <td>29</td>\n",
              "      <td>25</td>\n",
              "      <td>1</td>\n",
              "      <td>227</td>\n",
              "      <td>109</td>\n",
              "      <td>0.847941</td>\n",
              "      <td>4.74614e+06</td>\n",
              "      <td>73</td>\n",
              "      <td>284973</td>\n",
              "      <td>33204</td>\n",
              "    </tr>\n",
              "    <tr>\n",
              "      <th>5</th>\n",
              "      <td>Chennai</td>\n",
              "      <td>25</td>\n",
              "      <td>13</td>\n",
              "      <td>4.68109e+06</td>\n",
              "      <td>904</td>\n",
              "      <td>26</td>\n",
              "      <td>31</td>\n",
              "      <td>0</td>\n",
              "      <td>210</td>\n",
              "      <td>179</td>\n",
              "      <td>0.536995</td>\n",
              "      <td>4.2317e+06</td>\n",
              "      <td>67</td>\n",
              "      <td>4.68471e+06</td>\n",
              "      <td>145606</td>\n",
              "    </tr>\n",
              "    <tr>\n",
              "      <th>6</th>\n",
              "      <td>Chennai</td>\n",
              "      <td>26</td>\n",
              "      <td>25</td>\n",
              "      <td>4.64673e+06</td>\n",
              "      <td>912</td>\n",
              "      <td>26</td>\n",
              "      <td>30</td>\n",
              "      <td>2</td>\n",
              "      <td>145</td>\n",
              "      <td>177</td>\n",
              "      <td>0.0934507</td>\n",
              "      <td>4.23782e+06</td>\n",
              "      <td>55</td>\n",
              "      <td>4.68471e+06</td>\n",
              "      <td>145606</td>\n",
              "    </tr>\n",
              "    <tr>\n",
              "      <th>7</th>\n",
              "      <td>Kolkata</td>\n",
              "      <td>31</td>\n",
              "      <td>13</td>\n",
              "      <td>4.48668e+06</td>\n",
              "      <td>945</td>\n",
              "      <td>26</td>\n",
              "      <td>37</td>\n",
              "      <td>2</td>\n",
              "      <td>114</td>\n",
              "      <td>155</td>\n",
              "      <td>0.473585</td>\n",
              "      <td>4.23991e+06</td>\n",
              "      <td>82</td>\n",
              "      <td>1.4895e+06</td>\n",
              "      <td>44957</td>\n",
              "    </tr>\n",
              "    <tr>\n",
              "      <th>8</th>\n",
              "      <td>Jaipur</td>\n",
              "      <td>23</td>\n",
              "      <td>13</td>\n",
              "      <td>3.04616e+06</td>\n",
              "      <td>871</td>\n",
              "      <td>26</td>\n",
              "      <td>32</td>\n",
              "      <td>0</td>\n",
              "      <td>128</td>\n",
              "      <td>172</td>\n",
              "      <td>0.889895</td>\n",
              "      <td>2.65321e+06</td>\n",
              "      <td>61</td>\n",
              "      <td>1.47531e+06</td>\n",
              "      <td>14001</td>\n",
              "    </tr>\n",
              "    <tr>\n",
              "      <th>9</th>\n",
              "      <td>Lucknow</td>\n",
              "      <td>29</td>\n",
              "      <td>13</td>\n",
              "      <td>2.81710e+06</td>\n",
              "      <td>882</td>\n",
              "      <td>24</td>\n",
              "      <td>33</td>\n",
              "      <td>0</td>\n",
              "      <td>123</td>\n",
              "      <td>176</td>\n",
              "      <td>0.464746</td>\n",
              "      <td>2.48469e+06</td>\n",
              "      <td>58</td>\n",
              "      <td>3.10406e+06</td>\n",
              "      <td>37220</td>\n",
              "    </tr>\n",
              "    <tr>\n",
              "      <th>10</th>\n",
              "      <td>Indore</td>\n",
              "      <td>15</td>\n",
              "      <td>6</td>\n",
              "      <td>2.8e+06</td>\n",
              "      <td>919</td>\n",
              "      <td>25</td>\n",
              "      <td>34</td>\n",
              "      <td>1</td>\n",
              "      <td>116</td>\n",
              "      <td>142</td>\n",
              "      <td>0.815466</td>\n",
              "      <td>2.5732e+06</td>\n",
              "      <td>56</td>\n",
              "      <td>421365</td>\n",
              "      <td>15764</td>\n",
              "    </tr>\n",
              "    <tr>\n",
              "      <th>11</th>\n",
              "      <td>Kanpur</td>\n",
              "      <td>29</td>\n",
              "      <td>13</td>\n",
              "      <td>2.76535e+06</td>\n",
              "      <td>861</td>\n",
              "      <td>26</td>\n",
              "      <td>29</td>\n",
              "      <td>0</td>\n",
              "      <td>135</td>\n",
              "      <td>122</td>\n",
              "      <td>0.053147</td>\n",
              "      <td>2.38096e+06</td>\n",
              "      <td>94</td>\n",
              "      <td>3.10406e+06</td>\n",
              "      <td>22413</td>\n",
              "    </tr>\n",
              "    <tr>\n",
              "      <th>12</th>\n",
              "      <td>Nagpur</td>\n",
              "      <td>16</td>\n",
              "      <td>13</td>\n",
              "      <td>2.40566e+06</td>\n",
              "      <td>878</td>\n",
              "      <td>27</td>\n",
              "      <td>35</td>\n",
              "      <td>2</td>\n",
              "      <td>100</td>\n",
              "      <td>136</td>\n",
              "      <td>0.0107301</td>\n",
              "      <td>2.11217e+06</td>\n",
              "      <td>52</td>\n",
              "      <td>4.40892e+06</td>\n",
              "      <td>44700</td>\n",
              "    </tr>\n",
              "    <tr>\n",
              "      <th>13</th>\n",
              "      <td>Indore</td>\n",
              "      <td>15</td>\n",
              "      <td>13</td>\n",
              "      <td>1.96409e+06</td>\n",
              "      <td>929</td>\n",
              "      <td>25.5</td>\n",
              "      <td>37</td>\n",
              "      <td>2</td>\n",
              "      <td>149</td>\n",
              "      <td>172</td>\n",
              "      <td>0.884344</td>\n",
              "      <td>1.82464e+06</td>\n",
              "      <td>76</td>\n",
              "      <td>421365</td>\n",
              "      <td>15764</td>\n",
              "    </tr>\n",
              "    <tr>\n",
              "      <th>14</th>\n",
              "      <td>Thane</td>\n",
              "      <td>16</td>\n",
              "      <td>13</td>\n",
              "      <td>1.84149e+06</td>\n",
              "      <td>878</td>\n",
              "      <td>27</td>\n",
              "      <td>32</td>\n",
              "      <td>1</td>\n",
              "      <td>119</td>\n",
              "      <td>199</td>\n",
              "      <td>0.727836</td>\n",
              "      <td>1.61683e+06</td>\n",
              "      <td>90</td>\n",
              "      <td>4.40892e+06</td>\n",
              "      <td>150793</td>\n",
              "    </tr>\n",
              "    <tr>\n",
              "      <th>15</th>\n",
              "      <td>Bhopal</td>\n",
              "      <td>15</td>\n",
              "      <td>13</td>\n",
              "      <td>1.79822e+06</td>\n",
              "      <td>926</td>\n",
              "      <td>25.5</td>\n",
              "      <td>35</td>\n",
              "      <td>1</td>\n",
              "      <td>113</td>\n",
              "      <td>185</td>\n",
              "      <td>0.333171</td>\n",
              "      <td>1.66515e+06</td>\n",
              "      <td>72</td>\n",
              "      <td>421365</td>\n",
              "      <td>12446</td>\n",
              "    </tr>\n",
              "    <tr>\n",
              "      <th>16</th>\n",
              "      <td>Visakhapatnam</td>\n",
              "      <td>1</td>\n",
              "      <td>13</td>\n",
              "      <td>1.72813e+06</td>\n",
              "      <td>891</td>\n",
              "      <td>26</td>\n",
              "      <td>26</td>\n",
              "      <td>0</td>\n",
              "      <td>119</td>\n",
              "      <td>125</td>\n",
              "      <td>0.641501</td>\n",
              "      <td>1.53976e+06</td>\n",
              "      <td>51</td>\n",
              "      <td>237854</td>\n",
              "      <td>21374</td>\n",
              "    </tr>\n",
              "    <tr>\n",
              "      <th>17</th>\n",
              "      <td>Pimpri-Chinchwad</td>\n",
              "      <td>16</td>\n",
              "      <td>13</td>\n",
              "      <td>1.72769e+06</td>\n",
              "      <td>872</td>\n",
              "      <td>27</td>\n",
              "      <td>36</td>\n",
              "      <td>0</td>\n",
              "      <td>108</td>\n",
              "      <td>195</td>\n",
              "      <td>0.43833</td>\n",
              "      <td>1.50655e+06</td>\n",
              "      <td>93</td>\n",
              "      <td>4.40892e+06</td>\n",
              "      <td>24402</td>\n",
              "    </tr>\n",
              "    <tr>\n",
              "      <th>18</th>\n",
              "      <td>Patna</td>\n",
              "      <td>3</td>\n",
              "      <td>13</td>\n",
              "      <td>1.68422e+06</td>\n",
              "      <td>925</td>\n",
              "      <td>26</td>\n",
              "      <td>34</td>\n",
              "      <td>1</td>\n",
              "      <td>142</td>\n",
              "      <td>117</td>\n",
              "      <td>0.377562</td>\n",
              "      <td>1.55790e+06</td>\n",
              "      <td>62</td>\n",
              "      <td>923737</td>\n",
              "      <td>23610</td>\n",
              "    </tr>\n",
              "    <tr>\n",
              "      <th>19</th>\n",
              "      <td>Vadodara</td>\n",
              "      <td>8</td>\n",
              "      <td>13</td>\n",
              "      <td>1.67081e+06</td>\n",
              "      <td>840</td>\n",
              "      <td>26</td>\n",
              "      <td>29</td>\n",
              "      <td>1</td>\n",
              "      <td>112</td>\n",
              "      <td>156</td>\n",
              "      <td>0.263219</td>\n",
              "      <td>1.40348e+06</td>\n",
              "      <td>91</td>\n",
              "      <td>284973</td>\n",
              "      <td>9439</td>\n",
              "    </tr>\n",
              "  </tbody>\n",
              "</table>\n",
              "</div>"
            ],
            "text/plain": [
              "                City State Type  ... # of hospitals Foreign Visitors Covid Cases\n",
              "0             Mumbai    16    9  ...            159      4.40892e+06      163115\n",
              "1              Delhi     6    9  ...            148      2.37917e+06       80188\n",
              "2          Bangalore    13   13  ...            123           636502      141000\n",
              "3          Hyderabad    27   13  ...            110           126078       55123\n",
              "4          Ahmedabad     8   13  ...             73           284973       33204\n",
              "5            Chennai    25   13  ...             67      4.68471e+06      145606\n",
              "6            Chennai    26   25  ...             55      4.68471e+06      145606\n",
              "7            Kolkata    31   13  ...             82       1.4895e+06       44957\n",
              "8             Jaipur    23   13  ...             61      1.47531e+06       14001\n",
              "9            Lucknow    29   13  ...             58      3.10406e+06       37220\n",
              "10            Indore    15    6  ...             56           421365       15764\n",
              "11            Kanpur    29   13  ...             94      3.10406e+06       22413\n",
              "12            Nagpur    16   13  ...             52      4.40892e+06       44700\n",
              "13            Indore    15   13  ...             76           421365       15764\n",
              "14             Thane    16   13  ...             90      4.40892e+06      150793\n",
              "15            Bhopal    15   13  ...             72           421365       12446\n",
              "16     Visakhapatnam     1   13  ...             51           237854       21374\n",
              "17  Pimpri-Chinchwad    16   13  ...             93      4.40892e+06       24402\n",
              "18             Patna     3   13  ...             62           923737       23610\n",
              "19          Vadodara     8   13  ...             91           284973        9439\n",
              "\n",
              "[20 rows x 15 columns]"
            ]
          },
          "metadata": {
            "tags": []
          },
          "execution_count": 123
        }
      ]
    },
    {
      "cell_type": "code",
      "metadata": {
        "id": "TeOy1GHNZK17",
        "colab_type": "code",
        "colab": {}
      },
      "source": [
        ""
      ],
      "execution_count": null,
      "outputs": []
    },
    {
      "cell_type": "code",
      "metadata": {
        "id": "5ypn9h5oGtEr",
        "colab_type": "code",
        "colab": {}
      },
      "source": [
        ""
      ],
      "execution_count": null,
      "outputs": []
    },
    {
      "cell_type": "markdown",
      "metadata": {
        "id": "sAYo3w6Z1m4Z",
        "colab_type": "text"
      },
      "source": [
        "#TEST data cleaning"
      ]
    },
    {
      "cell_type": "code",
      "metadata": {
        "id": "Ox7nsmUYsB7G",
        "colab_type": "code",
        "colab": {}
      },
      "source": [
        "test_data=pd.read_excel('Test_dataset.xlsx')"
      ],
      "execution_count": 124,
      "outputs": []
    },
    {
      "cell_type": "code",
      "metadata": {
        "id": "BgmsasLJnSJU",
        "colab_type": "code",
        "colab": {}
      },
      "source": [
        "#test_data.drop(columns=['Unnamed: 0'], inplace=True)"
      ],
      "execution_count": 87,
      "outputs": []
    },
    {
      "cell_type": "code",
      "metadata": {
        "id": "1mIfOurC1vw2",
        "colab_type": "code",
        "colab": {}
      },
      "source": [
        "test_data.drop(['Popuation [2001]'],axis=1,inplace =True)"
      ],
      "execution_count": 125,
      "outputs": []
    },
    {
      "cell_type": "code",
      "metadata": {
        "id": "dPGwuDRy1v0W",
        "colab_type": "code",
        "colab": {
          "base_uri": "https://localhost:8080/",
          "height": 510
        },
        "outputId": "78c83bdb-ed83-4f06-8a71-c357f43db5bc"
      },
      "source": [
        "test_list = sorted(test_data['State'].unique())\n",
        "test_list"
      ],
      "execution_count": 126,
      "outputs": [
        {
          "output_type": "execute_result",
          "data": {
            "text/plain": [
              "['Andhra Pradesh',\n",
              " 'Andhra pradesh',\n",
              " 'Arunachal Pradesh',\n",
              " 'Assam',\n",
              " 'Bihar',\n",
              " 'Chhattisgarh',\n",
              " 'Dadra and Nagar Haveli',\n",
              " 'Gujarat',\n",
              " 'Haryana',\n",
              " 'Himachal Pradesh',\n",
              " 'Jammu and Kashmir',\n",
              " 'Jharkhand',\n",
              " 'Karnataka',\n",
              " 'Kerala',\n",
              " 'Madhya Pradesh',\n",
              " 'Maharashtra',\n",
              " 'Manipur',\n",
              " 'Meghalaya',\n",
              " 'Mizoram',\n",
              " 'Nagaland',\n",
              " 'Odisha',\n",
              " 'Punjab',\n",
              " 'Rajasthan',\n",
              " 'Tamil Nadu',\n",
              " 'Telangana',\n",
              " 'Tripura',\n",
              " 'Uttar Pradesh',\n",
              " 'Uttarakhand',\n",
              " 'West Bengal']"
            ]
          },
          "metadata": {
            "tags": []
          },
          "execution_count": 126
        }
      ]
    },
    {
      "cell_type": "code",
      "metadata": {
        "id": "-yGG0Cjz2AWo",
        "colab_type": "code",
        "colab": {
          "base_uri": "https://localhost:8080/",
          "height": 102
        },
        "outputId": "8210b229-feb6-4735-bc99-b0e29ef5c4b5"
      },
      "source": [
        "indices = list(test_data[test_data['State']=='Andhra pradesh'].index)\n",
        "for i in indices:\n",
        "     test_data['State'][i]= 'Andhra Pradesh'"
      ],
      "execution_count": 127,
      "outputs": [
        {
          "output_type": "stream",
          "text": [
            "/usr/local/lib/python3.6/dist-packages/ipykernel_launcher.py:3: SettingWithCopyWarning: \n",
            "A value is trying to be set on a copy of a slice from a DataFrame\n",
            "\n",
            "See the caveats in the documentation: https://pandas.pydata.org/pandas-docs/stable/user_guide/indexing.html#returning-a-view-versus-a-copy\n",
            "  This is separate from the ipykernel package so we can avoid doing imports until\n"
          ],
          "name": "stderr"
        }
      ]
    },
    {
      "cell_type": "code",
      "metadata": {
        "id": "EVqsJfJl2DoE",
        "colab_type": "code",
        "colab": {
          "base_uri": "https://localhost:8080/",
          "height": 459
        },
        "outputId": "398e33c9-b8a1-4fb9-a571-69843ddedf1c"
      },
      "source": [
        "#checked if all the values in the test set are amongst the train set - for encoding\n",
        "train_list = sorted(train_data['State'].unique())\n",
        "for state in test_list:\n",
        "    if state not in train_list:\n",
        "        print(state)"
      ],
      "execution_count": 133,
      "outputs": [
        {
          "output_type": "stream",
          "text": [
            "Andhra Pradesh\n",
            "Assam\n",
            "Bihar\n",
            "Chhattisgarh\n",
            "Gujarat\n",
            "Haryana\n",
            "Himachal Pradesh\n",
            "Jammu and Kashmir\n",
            "Jharkhand\n",
            "Karnataka\n",
            "Kerala\n",
            "Madhya Pradesh\n",
            "Maharashtra\n",
            "Manipur\n",
            "Meghalaya\n",
            "Mizoram\n",
            "Nagaland\n",
            "Odisha\n",
            "Punjab\n",
            "Rajasthan\n",
            "Tamil Nadu\n",
            "Telangana\n",
            "Tripura\n",
            "Uttar Pradesh\n",
            "Uttarakhand\n",
            "West Bengal\n"
          ],
          "name": "stdout"
        }
      ]
    },
    {
      "cell_type": "markdown",
      "metadata": {
        "id": "UTLQBswW2TD8",
        "colab_type": "text"
      },
      "source": [
        "# Converting Arunachal to assam  and dadra to gujarat since they are close geographically\n",
        "# converting Andhra pradesh to Andhra Pradesh since they are close geographically"
      ]
    },
    {
      "cell_type": "code",
      "metadata": {
        "id": "KglhYn4y2Dwg",
        "colab_type": "code",
        "colab": {}
      },
      "source": [
        "indices = list(test_data[test_data['State']=='Dadra and Nagar Haveli'].index)\n",
        "for i in indices:\n",
        "     test_data['State'][i]= 'Gujarat'\n",
        "\n",
        "indices = list(test_data[test_data['State']=='Arunachal Pradesh'].index)\n",
        "for i in indices:\n",
        "     test_data['State'][i]= 'Assam'\n",
        "\n",
        "indices = list(test_data[test_data['State']=='Andhra pradesh'].index)\n",
        "for i in indices:\n",
        "     test_data['State'][i]= 'Andhra Pradesh'"
      ],
      "execution_count": 134,
      "outputs": []
    },
    {
      "cell_type": "code",
      "metadata": {
        "id": "5eMlcu--2Aja",
        "colab_type": "code",
        "colab": {}
      },
      "source": [
        "test_list =sorted(test_data['State'].unique())"
      ],
      "execution_count": 135,
      "outputs": []
    },
    {
      "cell_type": "code",
      "metadata": {
        "id": "qW3dLyU72h-4",
        "colab_type": "code",
        "colab": {}
      },
      "source": [
        "for state in test_list:   #checked if all the values in the test set are amongst the train set - for encoding\n",
        "    if state not in train_list:\n",
        "        print(state)\n",
        "print('done')"
      ],
      "execution_count": null,
      "outputs": []
    },
    {
      "cell_type": "code",
      "metadata": {
        "id": "8D9P8OvN2iDD",
        "colab_type": "code",
        "colab": {
          "base_uri": "https://localhost:8080/",
          "height": 145
        },
        "outputId": "8163edc4-cc7c-48e0-e23e-f48659e66b43"
      },
      "source": [
        "test_data[test_data['Type'].isna()]"
      ],
      "execution_count": 137,
      "outputs": [
        {
          "output_type": "execute_result",
          "data": {
            "text/html": [
              "<div>\n",
              "<style scoped>\n",
              "    .dataframe tbody tr th:only-of-type {\n",
              "        vertical-align: middle;\n",
              "    }\n",
              "\n",
              "    .dataframe tbody tr th {\n",
              "        vertical-align: top;\n",
              "    }\n",
              "\n",
              "    .dataframe thead th {\n",
              "        text-align: right;\n",
              "    }\n",
              "</style>\n",
              "<table border=\"1\" class=\"dataframe\">\n",
              "  <thead>\n",
              "    <tr style=\"text-align: right;\">\n",
              "      <th></th>\n",
              "      <th>City</th>\n",
              "      <th>State</th>\n",
              "      <th>Type</th>\n",
              "      <th>Population [2011]</th>\n",
              "      <th>Sex Ratio</th>\n",
              "      <th>Median Age</th>\n",
              "      <th>Avg Temp</th>\n",
              "      <th>SWM</th>\n",
              "      <th>Toilets Avl</th>\n",
              "      <th>Water Purity</th>\n",
              "      <th>H Index</th>\n",
              "      <th>Female Population</th>\n",
              "      <th># of hospitals</th>\n",
              "      <th>Foreign Visitors</th>\n",
              "    </tr>\n",
              "  </thead>\n",
              "  <tbody>\n",
              "    <tr>\n",
              "      <th>428</th>\n",
              "      <td>Srirampore</td>\n",
              "      <td>West Bengal</td>\n",
              "      <td>NaN</td>\n",
              "      <td>19500.0</td>\n",
              "      <td>953.0</td>\n",
              "      <td>24.0</td>\n",
              "      <td>37.0</td>\n",
              "      <td>HIGH</td>\n",
              "      <td>62.0</td>\n",
              "      <td>175.0</td>\n",
              "      <td>0.157481</td>\n",
              "      <td>18584.0</td>\n",
              "      <td>30.0</td>\n",
              "      <td>1489500.0</td>\n",
              "    </tr>\n",
              "    <tr>\n",
              "      <th>475</th>\n",
              "      <td>Naura</td>\n",
              "      <td>Punjab</td>\n",
              "      <td>NaN</td>\n",
              "      <td>7500.0</td>\n",
              "      <td>881.0</td>\n",
              "      <td>23.0</td>\n",
              "      <td>38.0</td>\n",
              "      <td>HIGH</td>\n",
              "      <td>NaN</td>\n",
              "      <td>NaN</td>\n",
              "      <td>NaN</td>\n",
              "      <td>NaN</td>\n",
              "      <td>NaN</td>\n",
              "      <td>NaN</td>\n",
              "    </tr>\n",
              "  </tbody>\n",
              "</table>\n",
              "</div>"
            ],
            "text/plain": [
              "           City        State  ... # of hospitals  Foreign Visitors\n",
              "428  Srirampore  West Bengal  ...           30.0         1489500.0\n",
              "475       Naura       Punjab  ...            NaN               NaN\n",
              "\n",
              "[2 rows x 14 columns]"
            ]
          },
          "metadata": {
            "tags": []
          },
          "execution_count": 137
        }
      ]
    },
    {
      "cell_type": "code",
      "metadata": {
        "id": "s5Tl5N4z2sGy",
        "colab_type": "code",
        "colab": {}
      },
      "source": [
        "test_list = test_data['Type'].unique()"
      ],
      "execution_count": 138,
      "outputs": []
    },
    {
      "cell_type": "code",
      "metadata": {
        "id": "JS21yMV72sQ1",
        "colab_type": "code",
        "colab": {
          "base_uri": "https://localhost:8080/",
          "height": 102
        },
        "outputId": "564e1026-50e1-432e-b15d-8a2b2029a2bc"
      },
      "source": [
        "indices = list(test_data[test_data['Type']=='G.P.'].index)\n",
        "for i in indices:\n",
        "     test_data['Type'][i]= 'T.P'"
      ],
      "execution_count": 139,
      "outputs": [
        {
          "output_type": "stream",
          "text": [
            "/usr/local/lib/python3.6/dist-packages/ipykernel_launcher.py:3: SettingWithCopyWarning: \n",
            "A value is trying to be set on a copy of a slice from a DataFrame\n",
            "\n",
            "See the caveats in the documentation: https://pandas.pydata.org/pandas-docs/stable/user_guide/indexing.html#returning-a-view-versus-a-copy\n",
            "  This is separate from the ipykernel package so we can avoid doing imports until\n"
          ],
          "name": "stderr"
        }
      ]
    },
    {
      "cell_type": "code",
      "metadata": {
        "id": "V2YD4uCAsHt5",
        "colab_type": "code",
        "colab": {
          "base_uri": "https://localhost:8080/",
          "height": 238
        },
        "outputId": "4f5c8c0a-9294-4622-aa2b-f400d45a4e3d"
      },
      "source": [
        "test_data.head(5)"
      ],
      "execution_count": 140,
      "outputs": [
        {
          "output_type": "execute_result",
          "data": {
            "text/html": [
              "<div>\n",
              "<style scoped>\n",
              "    .dataframe tbody tr th:only-of-type {\n",
              "        vertical-align: middle;\n",
              "    }\n",
              "\n",
              "    .dataframe tbody tr th {\n",
              "        vertical-align: top;\n",
              "    }\n",
              "\n",
              "    .dataframe thead th {\n",
              "        text-align: right;\n",
              "    }\n",
              "</style>\n",
              "<table border=\"1\" class=\"dataframe\">\n",
              "  <thead>\n",
              "    <tr style=\"text-align: right;\">\n",
              "      <th></th>\n",
              "      <th>City</th>\n",
              "      <th>State</th>\n",
              "      <th>Type</th>\n",
              "      <th>Population [2011]</th>\n",
              "      <th>Sex Ratio</th>\n",
              "      <th>Median Age</th>\n",
              "      <th>Avg Temp</th>\n",
              "      <th>SWM</th>\n",
              "      <th>Toilets Avl</th>\n",
              "      <th>Water Purity</th>\n",
              "      <th>H Index</th>\n",
              "      <th>Female Population</th>\n",
              "      <th># of hospitals</th>\n",
              "      <th>Foreign Visitors</th>\n",
              "    </tr>\n",
              "  </thead>\n",
              "  <tbody>\n",
              "    <tr>\n",
              "      <th>0</th>\n",
              "      <td>Tuensang</td>\n",
              "      <td>Nagaland</td>\n",
              "      <td>T.C</td>\n",
              "      <td>36774.0</td>\n",
              "      <td>931.0</td>\n",
              "      <td>23.0</td>\n",
              "      <td>10.0</td>\n",
              "      <td>MEDIUM</td>\n",
              "      <td>94.0</td>\n",
              "      <td>114.0</td>\n",
              "      <td>0.253390</td>\n",
              "      <td>34237.0</td>\n",
              "      <td>17.0</td>\n",
              "      <td>2769.0</td>\n",
              "    </tr>\n",
              "    <tr>\n",
              "      <th>1</th>\n",
              "      <td>Lakshmeshwar</td>\n",
              "      <td>Karnataka</td>\n",
              "      <td>T.M.C</td>\n",
              "      <td>36754.0</td>\n",
              "      <td>934.0</td>\n",
              "      <td>25.0</td>\n",
              "      <td>38.0</td>\n",
              "      <td>HIGH</td>\n",
              "      <td>62.0</td>\n",
              "      <td>160.0</td>\n",
              "      <td>0.192555</td>\n",
              "      <td>34328.0</td>\n",
              "      <td>13.0</td>\n",
              "      <td>636502.0</td>\n",
              "    </tr>\n",
              "    <tr>\n",
              "      <th>2</th>\n",
              "      <td>Zira</td>\n",
              "      <td>Punjab</td>\n",
              "      <td>M.Cl.</td>\n",
              "      <td>36732.0</td>\n",
              "      <td>883.0</td>\n",
              "      <td>29.0</td>\n",
              "      <td>35.0</td>\n",
              "      <td>HIGH</td>\n",
              "      <td>63.0</td>\n",
              "      <td>105.0</td>\n",
              "      <td>0.887882</td>\n",
              "      <td>32434.0</td>\n",
              "      <td>17.0</td>\n",
              "      <td>242367.0</td>\n",
              "    </tr>\n",
              "    <tr>\n",
              "      <th>3</th>\n",
              "      <td>Yawal</td>\n",
              "      <td>Maharashtra</td>\n",
              "      <td>M.Cl</td>\n",
              "      <td>36706.0</td>\n",
              "      <td>887.0</td>\n",
              "      <td>26.0</td>\n",
              "      <td>31.0</td>\n",
              "      <td>HIGH</td>\n",
              "      <td>60.0</td>\n",
              "      <td>174.0</td>\n",
              "      <td>0.407838</td>\n",
              "      <td>32558.0</td>\n",
              "      <td>11.0</td>\n",
              "      <td>4408916.0</td>\n",
              "    </tr>\n",
              "    <tr>\n",
              "      <th>4</th>\n",
              "      <td>Thana Bhawan</td>\n",
              "      <td>Uttar Pradesh</td>\n",
              "      <td>N.P.</td>\n",
              "      <td>36669.0</td>\n",
              "      <td>877.0</td>\n",
              "      <td>28.0</td>\n",
              "      <td>39.0</td>\n",
              "      <td>LOW</td>\n",
              "      <td>92.0</td>\n",
              "      <td>153.0</td>\n",
              "      <td>0.324456</td>\n",
              "      <td>32159.0</td>\n",
              "      <td>23.0</td>\n",
              "      <td>3104060.0</td>\n",
              "    </tr>\n",
              "  </tbody>\n",
              "</table>\n",
              "</div>"
            ],
            "text/plain": [
              "           City          State  ... # of hospitals  Foreign Visitors\n",
              "0      Tuensang       Nagaland  ...           17.0            2769.0\n",
              "1  Lakshmeshwar      Karnataka  ...           13.0          636502.0\n",
              "2          Zira         Punjab  ...           17.0          242367.0\n",
              "3         Yawal    Maharashtra  ...           11.0         4408916.0\n",
              "4  Thana Bhawan  Uttar Pradesh  ...           23.0         3104060.0\n",
              "\n",
              "[5 rows x 14 columns]"
            ]
          },
          "metadata": {
            "tags": []
          },
          "execution_count": 140
        }
      ]
    },
    {
      "cell_type": "code",
      "metadata": {
        "id": "L0mY981EnSNu",
        "colab_type": "code",
        "colab": {
          "base_uri": "https://localhost:8080/",
          "height": 272
        },
        "outputId": "23ba6594-e7c4-4095-ad04-631c0f74493c"
      },
      "source": [
        "test_data.isnull().sum()"
      ],
      "execution_count": 141,
      "outputs": [
        {
          "output_type": "execute_result",
          "data": {
            "text/plain": [
              "City                  0\n",
              "State                 0\n",
              "Type                  2\n",
              "Population [2011]     6\n",
              "Sex Ratio             5\n",
              "Median Age           13\n",
              "Avg Temp             14\n",
              "SWM                   9\n",
              "Toilets Avl          22\n",
              "Water Purity         19\n",
              "H Index              15\n",
              "Female Population    15\n",
              "# of hospitals       17\n",
              "Foreign Visitors     17\n",
              "dtype: int64"
            ]
          },
          "metadata": {
            "tags": []
          },
          "execution_count": 141
        }
      ]
    },
    {
      "cell_type": "code",
      "metadata": {
        "id": "R7JOBeMWnSHh",
        "colab_type": "code",
        "colab": {}
      },
      "source": [
        "test_data[\"SWM\"].fillna('MEDIUM', inplace = True)\n",
        "test_data[\"Type\"].fillna('Nagar Parishad', inplace = True)  \n",
        "#for swm, since MEDIUM is an indication of mean and median. "
      ],
      "execution_count": 142,
      "outputs": []
    },
    {
      "cell_type": "code",
      "metadata": {
        "id": "DeCT1mSWwNQx",
        "colab_type": "code",
        "colab": {
          "base_uri": "https://localhost:8080/",
          "height": 272
        },
        "outputId": "3546ab89-b168-4562-efdb-6a5d834e386e"
      },
      "source": [
        "print(test_data.dtypes)"
      ],
      "execution_count": 143,
      "outputs": [
        {
          "output_type": "stream",
          "text": [
            "City                  object\n",
            "State                 object\n",
            "Type                  object\n",
            "Population [2011]    float64\n",
            "Sex Ratio            float64\n",
            "Median Age           float64\n",
            "Avg Temp             float64\n",
            "SWM                   object\n",
            "Toilets Avl          float64\n",
            "Water Purity         float64\n",
            "H Index              float64\n",
            "Female Population    float64\n",
            "# of hospitals       float64\n",
            "Foreign Visitors     float64\n",
            "dtype: object\n"
          ],
          "name": "stdout"
        }
      ]
    },
    {
      "cell_type": "code",
      "metadata": {
        "id": "5xLuTaOQnSEj",
        "colab_type": "code",
        "colab": {}
      },
      "source": [
        "test_data[\"Population [2011]\"] = test_data.groupby(\"State\").transform(lambda x: x.fillna(x.median()))[\"Population [2011]\"]\n",
        "test_data[\"Sex Ratio\"] = test_data.groupby(\"State\").transform(lambda x: x.fillna(x.median()))[\"Sex Ratio\"]\n",
        "test_data[\"Median Age\"] = test_data.groupby(\"State\").transform(lambda x: x.fillna(x.median()))[\"Median Age\"]\n",
        "test_data[\"Avg Temp\"] = test_data.groupby(\"State\").transform(lambda x: x.fillna(x.median()))[\"Avg Temp\"]\n",
        "test_data[\"Toilets Avl\"] = test_data.groupby(\"State\").transform(lambda x: x.fillna(x.mean()))[\"Toilets Avl\"]\n",
        "\n",
        "#water purity depends on type of city/municipal corporation\n",
        "test_data[\"Water Purity\"] = test_data.groupby(\"Type\").transform(lambda x: x.fillna(x.median()))[\"Water Purity\"]\n",
        "\n",
        "test_data[\"H Index\"] = test_data.groupby(\"State\").transform(lambda x: x.fillna(x.mean()))[\"H Index\"]\n",
        "test_data[\"Female Population\"] = test_data.groupby(\"State\").transform(lambda x: x.fillna(x.median()))[\"Female Population\"]\n",
        "\n",
        "#water purity depends on type of city/municipal corporation\n",
        "test_data[\"# of hospitals\"] = test_data.groupby(\"Type\").transform(lambda x: x.fillna(x.median()))[\"# of hospitals\"]\n",
        "test_data[\"Foreign Visitors\"] = test_data.groupby(\"State\").transform(lambda x: x.fillna(x.median()))[\"Foreign Visitors\"]"
      ],
      "execution_count": 144,
      "outputs": []
    },
    {
      "cell_type": "code",
      "metadata": {
        "id": "fOp9O836oEWk",
        "colab_type": "code",
        "colab": {}
      },
      "source": [
        "from sklearn.preprocessing import LabelEncoder, OneHotEncoder\n",
        "labelencoder = LabelEncoder()\n",
        "test_data=test_data.iloc[:,:].values\n",
        "test_data[:, 1] = labelencoder.fit_transform(test_data[:, 1])\n",
        "test_data[:, 2] = labelencoder.fit_transform(test_data[:, 2])\n",
        "test_data[:, 7] = labelencoder.fit_transform(test_data[:, 7])"
      ],
      "execution_count": 145,
      "outputs": []
    },
    {
      "cell_type": "code",
      "metadata": {
        "id": "TNuRhkHG64kr",
        "colab_type": "code",
        "colab": {}
      },
      "source": [
        "#converting toilets column to int\n",
        "toilets= np.array(train_data['Toilets Avl'])\n",
        "toilets = toilets.astype('int64')\n",
        "train_data['Toilets Avl'] = toilets"
      ],
      "execution_count": 147,
      "outputs": []
    },
    {
      "cell_type": "code",
      "metadata": {
        "id": "keCi5k0LoESs",
        "colab_type": "code",
        "colab": {}
      },
      "source": [
        "cleanest_test=pd.DataFrame(test_data)"
      ],
      "execution_count": 98,
      "outputs": []
    },
    {
      "cell_type": "code",
      "metadata": {
        "id": "XdqZEiuH7eK8",
        "colab_type": "code",
        "colab": {}
      },
      "source": [
        "cleanest_test.head(35)"
      ],
      "execution_count": null,
      "outputs": []
    },
    {
      "cell_type": "code",
      "metadata": {
        "id": "NIfIf1WgpL64",
        "colab_type": "code",
        "colab": {}
      },
      "source": [
        "cleanest_test.rename(columns={0: \"City\", 1: \"State\",\n",
        "                      2: \"Type\", 3: \"Population [2011]\", \n",
        "                      4: \"Sex Ratio\", 5: \"Median Age\",\n",
        "                      6: \"Avg Temp\", 7: \"SWM\",\n",
        "                      8: \"Toilets Avl\", 9: \"Water Purity\",\n",
        "                      10: \"H Index\", 11: \"Female Population\", \n",
        "                      12: \"# of hospitals\", 13: \"Foreign Visitors\"}, inplace=True)"
      ],
      "execution_count": 149,
      "outputs": []
    },
    {
      "cell_type": "code",
      "metadata": {
        "id": "NpCiPyuQ-Kt0",
        "colab_type": "code",
        "colab": {}
      },
      "source": [
        "train_data=cleanest_test"
      ],
      "execution_count": 150,
      "outputs": []
    },
    {
      "cell_type": "code",
      "metadata": {
        "id": "nM9-6ybCpL3Y",
        "colab_type": "code",
        "colab": {}
      },
      "source": [
        "#Feature Selection NOT Required\n",
        "'''\n",
        "from sklearn.feature_selection import SelectKBest\n",
        "from sklearn.feature_selection import f_regression, mutual_info_regression\n",
        "\n",
        "#mutual_info_gain is information gain in decision trees, random forest\n",
        "\n",
        "# feature selection\n",
        "def select_features(x_train, y_train, test_data):\n",
        "\tfs = SelectKBest(score_func=mutual_info_regression, k='all')\n",
        "\tfs.fit(x_train, y_train)\n",
        "\tx_train_fs = fs.transform(x_train)\n",
        "\ttest_data_fs = fs.transform(test_data)\n",
        "\treturn x_train_fs, test_data_fs, fs\n",
        "\n",
        "x_train_fs, test_data_fs, fs = select_features(x_train, y_train, test_data)\n",
        "for i in range(len(fs.scores_)):\n",
        "\tprint('Feature %d: %f' % (i, fs.scores_[i]))\n",
        "'''"
      ],
      "execution_count": null,
      "outputs": []
    },
    {
      "cell_type": "code",
      "metadata": {
        "id": "y__FqKMG6nVb",
        "colab_type": "code",
        "colab": {}
      },
      "source": [
        ""
      ],
      "execution_count": null,
      "outputs": []
    },
    {
      "cell_type": "markdown",
      "metadata": {
        "id": "oasQCghq6EoJ",
        "colab_type": "text"
      },
      "source": [
        "#Model Training"
      ]
    },
    {
      "cell_type": "code",
      "metadata": {
        "id": "B5vwcwt27Hag",
        "colab_type": "code",
        "colab": {}
      },
      "source": [
        "x_train=train_data.iloc[:, 1:14].values\n",
        "y_train=train_data.iloc[:, -1].values"
      ],
      "execution_count": 152,
      "outputs": []
    },
    {
      "cell_type": "code",
      "metadata": {
        "id": "eWozVsN__Au1",
        "colab_type": "code",
        "colab": {}
      },
      "source": [
        "from sklearn.ensemble import RandomForestRegressor\n",
        "\n",
        "rf = RandomForestRegressor(n_estimators = 600, random_state = 0) \n",
        "rf.fit(x_train, y_train)\n",
        "y_pred = rf.predict(test_data)"
      ],
      "execution_count": null,
      "outputs": []
    },
    {
      "cell_type": "code",
      "metadata": {
        "id": "tqd6FPsR6CWk",
        "colab_type": "code",
        "colab": {}
      },
      "source": [
        "from sklearn.model_selection import cross_val_score\n",
        "r2 = cross_val_score(ran, x_train, y_train, cv=10, scoring='r2')\n",
        "r2_mean=np.mean(r2)\n",
        "print(r2_mean)"
      ],
      "execution_count": null,
      "outputs": []
    },
    {
      "cell_type": "code",
      "metadata": {
        "id": "ggtwRRWR6CUH",
        "colab_type": "code",
        "colab": {}
      },
      "source": [
        "#Thus, r2_mean=  83.6%"
      ],
      "execution_count": null,
      "outputs": []
    },
    {
      "cell_type": "markdown",
      "metadata": {
        "id": "MqAI1MQT76Jv",
        "colab_type": "text"
      },
      "source": [
        "PLotting accuracies"
      ]
    },
    {
      "cell_type": "code",
      "metadata": {
        "id": "DYYCtuNX6CSj",
        "colab_type": "code",
        "colab": {}
      },
      "source": [
        "accuracies = []\n",
        "for i in range(100,2000,100):\n",
        "    rf = RandomForestRegressor(n_estimators = i, random_state = 0) \n",
        "    rf.fit(x_train, y_train)\n",
        "    y_pred = rf.predict(x_test)\n",
        "    accuracies.append(r2_score(y_test,y_pred)*100)"
      ],
      "execution_count": null,
      "outputs": []
    },
    {
      "cell_type": "code",
      "metadata": {
        "id": "eMndtWel6CRF",
        "colab_type": "code",
        "colab": {}
      },
      "source": [
        "plt.plot(np.arange(100,2000,100),accuracies)"
      ],
      "execution_count": null,
      "outputs": []
    },
    {
      "cell_type": "code",
      "metadata": {
        "id": "mVpKCqKG6CPY",
        "colab_type": "code",
        "colab": {}
      },
      "source": [
        "accuracies.index(max(accuracies))"
      ],
      "execution_count": null,
      "outputs": []
    },
    {
      "cell_type": "code",
      "metadata": {
        "id": "feH3cL_c6CNr",
        "colab_type": "code",
        "colab": {}
      },
      "source": [
        ""
      ],
      "execution_count": null,
      "outputs": []
    },
    {
      "cell_type": "code",
      "metadata": {
        "id": "J0pFkS6N6CMC",
        "colab_type": "code",
        "colab": {}
      },
      "source": [
        ""
      ],
      "execution_count": 154,
      "outputs": []
    },
    {
      "cell_type": "code",
      "metadata": {
        "id": "BvhUk3GZ6CJI",
        "colab_type": "code",
        "colab": {}
      },
      "source": [
        ""
      ],
      "execution_count": null,
      "outputs": []
    },
    {
      "cell_type": "code",
      "metadata": {
        "id": "fdoC7NeE6CHi",
        "colab_type": "code",
        "colab": {}
      },
      "source": [
        ""
      ],
      "execution_count": null,
      "outputs": []
    },
    {
      "cell_type": "code",
      "metadata": {
        "id": "RqOlF-l66CFb",
        "colab_type": "code",
        "colab": {}
      },
      "source": [
        ""
      ],
      "execution_count": null,
      "outputs": []
    },
    {
      "cell_type": "code",
      "metadata": {
        "id": "VWDqWcym6CDr",
        "colab_type": "code",
        "colab": {}
      },
      "source": [
        ""
      ],
      "execution_count": null,
      "outputs": []
    },
    {
      "cell_type": "code",
      "metadata": {
        "id": "d_eHCRM46CBX",
        "colab_type": "code",
        "colab": {}
      },
      "source": [
        ""
      ],
      "execution_count": null,
      "outputs": []
    },
    {
      "cell_type": "code",
      "metadata": {
        "id": "Lj9mwyZM6B-N",
        "colab_type": "code",
        "colab": {}
      },
      "source": [
        ""
      ],
      "execution_count": null,
      "outputs": []
    },
    {
      "cell_type": "code",
      "metadata": {
        "id": "9jBZoFze6B61",
        "colab_type": "code",
        "colab": {}
      },
      "source": [
        ""
      ],
      "execution_count": null,
      "outputs": []
    },
    {
      "cell_type": "code",
      "metadata": {
        "id": "l3B2WDp66B1Z",
        "colab_type": "code",
        "colab": {}
      },
      "source": [
        ""
      ],
      "execution_count": null,
      "outputs": []
    },
    {
      "cell_type": "code",
      "metadata": {
        "id": "J376RbsX6Bse",
        "colab_type": "code",
        "colab": {}
      },
      "source": [
        ""
      ],
      "execution_count": null,
      "outputs": []
    },
    {
      "cell_type": "code",
      "metadata": {
        "id": "UcuY1_vx6BqB",
        "colab_type": "code",
        "colab": {}
      },
      "source": [
        ""
      ],
      "execution_count": null,
      "outputs": []
    },
    {
      "cell_type": "code",
      "metadata": {
        "id": "EsmwD-sP6Boa",
        "colab_type": "code",
        "colab": {}
      },
      "source": [
        ""
      ],
      "execution_count": null,
      "outputs": []
    },
    {
      "cell_type": "code",
      "metadata": {
        "id": "k7FDM1sH6Blv",
        "colab_type": "code",
        "colab": {}
      },
      "source": [
        ""
      ],
      "execution_count": null,
      "outputs": []
    },
    {
      "cell_type": "code",
      "metadata": {
        "id": "yVnjvT596Bjc",
        "colab_type": "code",
        "colab": {}
      },
      "source": [
        ""
      ],
      "execution_count": null,
      "outputs": []
    },
    {
      "cell_type": "code",
      "metadata": {
        "id": "pqhr_GSh6Bha",
        "colab_type": "code",
        "colab": {}
      },
      "source": [
        ""
      ],
      "execution_count": null,
      "outputs": []
    },
    {
      "cell_type": "code",
      "metadata": {
        "id": "Hdd_ILfU6BeF",
        "colab_type": "code",
        "colab": {}
      },
      "source": [
        ""
      ],
      "execution_count": null,
      "outputs": []
    },
    {
      "cell_type": "code",
      "metadata": {
        "id": "SSb99Za_c3pm",
        "colab_type": "code",
        "colab": {
          "base_uri": "https://localhost:8080/",
          "height": 34
        },
        "outputId": "4a6863e9-f1b4-4470-a54d-153b31f27e6c"
      },
      "source": [
        "from google.colab import drive\n",
        "drive.mount('drive')"
      ],
      "execution_count": 55,
      "outputs": [
        {
          "output_type": "stream",
          "text": [
            "Mounted at drive\n"
          ],
          "name": "stdout"
        }
      ]
    },
    {
      "cell_type": "code",
      "metadata": {
        "id": "Lb3-XUdzmvuV",
        "colab_type": "code",
        "colab": {}
      },
      "source": [
        "cleanest_test=pd.DataFrame(cleanest_test)\n",
        "cleanest_test.to_csv('cleanest_test.csv')\n",
        "!cp cleanest_test.csv \"drive/My Drive/\""
      ],
      "execution_count": 101,
      "outputs": []
    },
    {
      "cell_type": "code",
      "metadata": {
        "id": "sDyjbdx3Dkcp",
        "colab_type": "code",
        "colab": {
          "resources": {
            "http://localhost:8080/nbextensions/google.colab/files.js": {
              "data": "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",
              "ok": true,
              "headers": [
                [
                  "content-type",
                  "application/javascript"
                ]
              ],
              "status": 200,
              "status_text": ""
            }
          },
          "base_uri": "https://localhost:8080/",
          "height": 72
        },
        "outputId": "a57e14a0-f91c-4a05-f19c-d11970bdae8b"
      },
      "source": [
        "from google.colab import files\n",
        "up=files.upload()"
      ],
      "execution_count": null,
      "outputs": [
        {
          "output_type": "display_data",
          "data": {
            "text/html": [
              "\n",
              "     <input type=\"file\" id=\"files-bc5bf119-1596-4e42-84aa-3fab78fdf9d7\" name=\"files[]\" multiple disabled\n",
              "        style=\"border:none\" />\n",
              "     <output id=\"result-bc5bf119-1596-4e42-84aa-3fab78fdf9d7\">\n",
              "      Upload widget is only available when the cell has been executed in the\n",
              "      current browser session. Please rerun this cell to enable.\n",
              "      </output>\n",
              "      <script src=\"/nbextensions/google.colab/files.js\"></script> "
            ],
            "text/plain": [
              "<IPython.core.display.HTML object>"
            ]
          },
          "metadata": {
            "tags": []
          }
        },
        {
          "output_type": "stream",
          "text": [
            "Saving clean_train02.csv to clean_train02.csv\n"
          ],
          "name": "stdout"
        }
      ]
    },
    {
      "cell_type": "code",
      "metadata": {
        "id": "02F4fRjhDkhz",
        "colab_type": "code",
        "colab": {}
      },
      "source": [
        "clean_new=pd.read_csv('clean_train02.csv')"
      ],
      "execution_count": null,
      "outputs": []
    },
    {
      "cell_type": "code",
      "metadata": {
        "id": "zijKTJEFDkrR",
        "colab_type": "code",
        "colab": {
          "base_uri": "https://localhost:8080/",
          "height": 306
        },
        "outputId": "5b757e7f-86f0-4130-d53f-2ca8e7078c67"
      },
      "source": [
        "clean_new.isnull().sum()"
      ],
      "execution_count": null,
      "outputs": [
        {
          "output_type": "execute_result",
          "data": {
            "text/plain": [
              "Unnamed: 0           0\n",
              "City                 0\n",
              "State                0\n",
              "Type                 0\n",
              "Population [2011]    0\n",
              "Sex Ratio            0\n",
              "Median Age           0\n",
              "Avg Temp             0\n",
              "SWM                  0\n",
              "Toilets Avl          0\n",
              "Water Purity         0\n",
              "H Index              0\n",
              "Female Population    0\n",
              "# of hospitals       0\n",
              "Foreign Visitors     0\n",
              "Covid Cases          0\n",
              "dtype: int64"
            ]
          },
          "metadata": {
            "tags": []
          },
          "execution_count": 75
        }
      ]
    },
    {
      "cell_type": "code",
      "metadata": {
        "id": "-AH8_tgPDkoO",
        "colab_type": "code",
        "colab": {}
      },
      "source": [
        ""
      ],
      "execution_count": null,
      "outputs": []
    },
    {
      "cell_type": "code",
      "metadata": {
        "id": "NK2inpomDklz",
        "colab_type": "code",
        "colab": {}
      },
      "source": [
        ""
      ],
      "execution_count": null,
      "outputs": []
    },
    {
      "cell_type": "code",
      "metadata": {
        "id": "d8UPxlTFDkf6",
        "colab_type": "code",
        "colab": {}
      },
      "source": [
        ""
      ],
      "execution_count": null,
      "outputs": []
    },
    {
      "cell_type": "code",
      "metadata": {
        "id": "_SvU8G4tDkau",
        "colab_type": "code",
        "colab": {}
      },
      "source": [
        ""
      ],
      "execution_count": null,
      "outputs": []
    },
    {
      "cell_type": "code",
      "metadata": {
        "id": "Z0pL8POCts3f",
        "colab_type": "code",
        "colab": {}
      },
      "source": [
        "#clean=clean.fillna(np.median)\n",
        "#clean['Avg Temp']=int(clean['Avg Temp'])\n",
        "convert_dict = {\n",
        "'Population [2011]':int,\n",
        "'Sex Ratio':int,\n",
        "'Median Age':int,\n",
        "'Avg Temp':int,\n",
        "'SWM': int,\n",
        "'Toilets Avl':int,\n",
        "'Water Purity':float,\n",
        "'H Index': float,\n",
        "'Female Population':int,\n",
        "'# of hospitals':int,\n",
        "'Foreign Visitors':int,\n",
        "'Covid Cases':int} \n",
        "clean = clean.astype(convert_dict) "
      ],
      "execution_count": null,
      "outputs": []
    },
    {
      "cell_type": "code",
      "metadata": {
        "id": "ugGCeL-w_vcK",
        "colab_type": "code",
        "colab": {}
      },
      "source": [
        "clean['Toilets Avl'] = ''.join(map(str, clean['Toilets Avl']))\n",
        "clean['Toilets Avl'] = clean['Toilets Avl'].astype(int) "
      ],
      "execution_count": null,
      "outputs": []
    },
    {
      "cell_type": "code",
      "metadata": {
        "id": "gCNExcnnfTVZ",
        "colab_type": "code",
        "colab": {}
      },
      "source": [
        "lol=[7, 10, 11, 12]\n",
        "from sklearn.impute import SimpleImputer\n",
        "imp = SimpleImputer(missing_values= np.nan, strategy='median')\n",
        "for i in lol:\n",
        "  imp = imp.fit(train_data.iloc[:, i:i+1])\n",
        "  train_data.iloc[:, i:i+1] = imp.transform(train_data.iloc[:, i:i+1])"
      ],
      "execution_count": null,
      "outputs": []
    }
  ]
}